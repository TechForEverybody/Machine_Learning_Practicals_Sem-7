{
 "cells": [
  {
   "cell_type": "markdown",
   "id": "associate-locking",
   "metadata": {},
   "source": [
    "### Imports"
   ]
  },
  {
   "cell_type": "code",
   "execution_count": 9,
   "id": "passive-macro",
   "metadata": {},
   "outputs": [],
   "source": [
    "import pandas\n",
    "import matplotlib.pyplot\n",
    "from scipy import stats"
   ]
  },
  {
   "cell_type": "markdown",
   "id": "numerous-figure",
   "metadata": {},
   "source": [
    "### Data reading"
   ]
  },
  {
   "cell_type": "code",
   "execution_count": 10,
   "id": "infrared-anderson",
   "metadata": {},
   "outputs": [],
   "source": [
    "data=pandas.read_csv(\"./data.csv\")"
   ]
  },
  {
   "cell_type": "code",
   "execution_count": 11,
   "id": "veterinary-controversy",
   "metadata": {},
   "outputs": [
    {
     "data": {
      "text/html": [
       "<div>\n",
       "<style scoped>\n",
       "    .dataframe tbody tr th:only-of-type {\n",
       "        vertical-align: middle;\n",
       "    }\n",
       "\n",
       "    .dataframe tbody tr th {\n",
       "        vertical-align: top;\n",
       "    }\n",
       "\n",
       "    .dataframe thead th {\n",
       "        text-align: right;\n",
       "    }\n",
       "</style>\n",
       "<table border=\"1\" class=\"dataframe\">\n",
       "  <thead>\n",
       "    <tr style=\"text-align: right;\">\n",
       "      <th></th>\n",
       "      <th>Year</th>\n",
       "      <th>Population</th>\n",
       "    </tr>\n",
       "  </thead>\n",
       "  <tbody>\n",
       "    <tr>\n",
       "      <th>0</th>\n",
       "      <td>1901</td>\n",
       "      <td>1979866</td>\n",
       "    </tr>\n",
       "    <tr>\n",
       "      <th>1</th>\n",
       "      <td>1911</td>\n",
       "      <td>2142258</td>\n",
       "    </tr>\n",
       "    <tr>\n",
       "      <th>2</th>\n",
       "      <td>1921</td>\n",
       "      <td>2115984</td>\n",
       "    </tr>\n",
       "    <tr>\n",
       "      <th>3</th>\n",
       "      <td>1931</td>\n",
       "      <td>2301019</td>\n",
       "    </tr>\n",
       "    <tr>\n",
       "      <th>4</th>\n",
       "      <td>1941</td>\n",
       "      <td>2614540</td>\n",
       "    </tr>\n",
       "    <tr>\n",
       "      <th>5</th>\n",
       "      <td>1951</td>\n",
       "      <td>2945929</td>\n",
       "    </tr>\n",
       "    <tr>\n",
       "      <th>6</th>\n",
       "      <td>1961</td>\n",
       "      <td>3610938</td>\n",
       "    </tr>\n",
       "    <tr>\n",
       "      <th>7</th>\n",
       "      <td>1971</td>\n",
       "      <td>4492724</td>\n",
       "    </tr>\n",
       "    <tr>\n",
       "      <th>8</th>\n",
       "      <td>1981</td>\n",
       "      <td>5725972</td>\n",
       "    </tr>\n",
       "    <tr>\n",
       "      <th>9</th>\n",
       "      <td>1991</td>\n",
       "      <td>7050634</td>\n",
       "    </tr>\n",
       "    <tr>\n",
       "      <th>10</th>\n",
       "      <td>2001</td>\n",
       "      <td>8489349</td>\n",
       "    </tr>\n",
       "    <tr>\n",
       "      <th>11</th>\n",
       "      <td>2011</td>\n",
       "      <td>10086292</td>\n",
       "    </tr>\n",
       "  </tbody>\n",
       "</table>\n",
       "</div>"
      ],
      "text/plain": [
       "    Year  Population\n",
       "0   1901     1979866\n",
       "1   1911     2142258\n",
       "2   1921     2115984\n",
       "3   1931     2301019\n",
       "4   1941     2614540\n",
       "5   1951     2945929\n",
       "6   1961     3610938\n",
       "7   1971     4492724\n",
       "8   1981     5725972\n",
       "9   1991     7050634\n",
       "10  2001     8489349\n",
       "11  2011    10086292"
      ]
     },
     "execution_count": 11,
     "metadata": {},
     "output_type": "execute_result"
    }
   ],
   "source": [
    "data"
   ]
  },
  {
   "cell_type": "code",
   "execution_count": 12,
   "id": "empty-contact",
   "metadata": {
    "scrolled": true
   },
   "outputs": [
    {
     "data": {
      "text/plain": [
       "Index(['Year', 'Population'], dtype='object')"
      ]
     },
     "execution_count": 12,
     "metadata": {},
     "output_type": "execute_result"
    }
   ],
   "source": [
    "data.columns"
   ]
  },
  {
   "cell_type": "markdown",
   "id": "vocational-things",
   "metadata": {},
   "source": [
    "### Dividing into X and Y"
   ]
  },
  {
   "cell_type": "code",
   "execution_count": 13,
   "id": "sticky-trick",
   "metadata": {},
   "outputs": [],
   "source": [
    "x=data['Year']"
   ]
  },
  {
   "cell_type": "code",
   "execution_count": 14,
   "id": "persistent-madonna",
   "metadata": {},
   "outputs": [],
   "source": [
    "y=data['Population']"
   ]
  },
  {
   "cell_type": "markdown",
   "id": "general-chuck",
   "metadata": {},
   "source": [
    "### Plotting Scatter Plot of Data"
   ]
  },
  {
   "cell_type": "code",
   "execution_count": 15,
   "id": "abstract-indonesia",
   "metadata": {},
   "outputs": [
    {
     "data": {
      "image/png": "[encoded data removed]",
      "text/plain": [
       "<Figure size 432x288 with 1 Axes>"
      ]
     },
     "metadata": {
      "needs_background": "light"
     },
     "output_type": "display_data"
    }
   ],
   "source": [
    "matplotlib.pyplot.figure('Uttarakhand Population')\n",
    "matplotlib.pyplot.scatter(x,y,label=\"Original Data\")\n",
    "matplotlib.pyplot.legend()\n",
    "matplotlib.pyplot.show()"
   ]
  },
  {
   "cell_type": "markdown",
   "id": "breeding-thing",
   "metadata": {},
   "source": [
    "### Taking slope, intercept, regression-coefficient and other values"
   ]
  },
  {
   "cell_type": "code",
   "execution_count": 16,
   "id": "specified-bathroom",
   "metadata": {},
   "outputs": [
    {
     "name": "stdout",
     "output_type": "stream",
     "text": [
      "Slope ->  71420.0632867133\n",
      "intercept ->  -135234685.0388112\n",
      "r ->  0.9301767175011959\n",
      "p ->  1.1615273766686576e-05\n",
      "std_err ->  8913.605992901637\n"
     ]
    }
   ],
   "source": [
    "slope, intercept, r, p, std_err = stats.linregress(x,y)\n",
    "print(\"Slope -> \",slope)\n",
    "print(\"intercept -> \",intercept)\n",
    "print(\"r -> \",r)\n",
    "print(\"p -> \",p)\n",
    "print(\"std_err -> \",std_err)"
   ]
  },
  {
   "cell_type": "markdown",
   "id": "understood-things",
   "metadata": {},
   "source": [
    "### Plotting Original of Data with line of regression"
   ]
  },
  {
   "cell_type": "code",
   "execution_count": 17,
   "id": "utility-minnesota",
   "metadata": {},
   "outputs": [
    {
     "data": {
      "image/png": "[encoded data removed]",
      "text/plain": [
       "<Figure size 432x288 with 1 Axes>"
      ]
     },
     "metadata": {
      "needs_background": "light"
     },
     "output_type": "display_data"
    }
   ],
   "source": [
    "matplotlib.pyplot.figure('Uttarakhand Population ')\n",
    "matplotlib.pyplot.scatter(x,y,label=\"Original Data\")\n",
    "matplotlib.pyplot.plot(x,intercept+slope*x,label=\"Line of Regression\")\n",
    "matplotlib.pyplot.legend()\n",
    "matplotlib.pyplot.show()"
   ]
  },
  {
   "cell_type": "code",
   "execution_count": null,
   "id": "similar-fourth",
   "metadata": {},
   "outputs": [],
   "source": []
  }
 ],
 "metadata": {
  "kernelspec": {
   "display_name": "Python 3",
   "language": "python",
   "name": "python3"
  },
  "language_info": {
   "codemirror_mode": {
    "name": "ipython",
    "version": 3
   },
   "file_extension": ".py",
   "mimetype": "text/x-python",
   "name": "python",
   "nbconvert_exporter": "python",
   "pygments_lexer": "ipython3",
   "version": "3.10.8 (tags/v3.10.8:aaaf517, Oct 11 2022, 16:50:30) [MSC v.1933 64 bit (AMD64)]"
  },
  "vscode": {
   "interpreter": {
    "hash": "26de051ba29f2982a8de78e945f0abaf191376122a1563185a90213a26c5da77"
   }
  }
 },
 "nbformat": 4,
 "nbformat_minor": 5
}
