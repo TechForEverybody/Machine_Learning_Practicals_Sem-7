{
 "cells": [
  {
   "cell_type": "markdown",
   "id": "associate-locking",
   "metadata": {},
   "source": [
    "### Imports"
   ]
  },
  {
   "cell_type": "code",
   "execution_count": 2,
   "id": "passive-macro",
   "metadata": {},
   "outputs": [],
   "source": [
    "import pandas\n",
    "import matplotlib.pyplot\n",
    "from scipy import stats\n",
    "import datetime\n",
    "%matplotlib qt"
   ]
  },
  {
   "cell_type": "markdown",
   "id": "numerous-figure",
   "metadata": {},
   "source": [
    "### Data reading"
   ]
  },
  {
   "cell_type": "code",
   "execution_count": 3,
   "id": "infrared-anderson",
   "metadata": {},
   "outputs": [],
   "source": [
    "data=pandas.read_csv(\"./TempratureData.csv\")"
   ]
  },
  {
   "cell_type": "code",
   "execution_count": 4,
   "id": "veterinary-controversy",
   "metadata": {},
   "outputs": [
    {
     "data": {
      "text/html": [
       "<div>\n",
       "<style scoped>\n",
       "    .dataframe tbody tr th:only-of-type {\n",
       "        vertical-align: middle;\n",
       "    }\n",
       "\n",
       "    .dataframe tbody tr th {\n",
       "        vertical-align: top;\n",
       "    }\n",
       "\n",
       "    .dataframe thead th {\n",
       "        text-align: right;\n",
       "    }\n",
       "</style>\n",
       "<table border=\"1\" class=\"dataframe\">\n",
       "  <thead>\n",
       "    <tr style=\"text-align: right;\">\n",
       "      <th></th>\n",
       "      <th>date</th>\n",
       "      <th>temprature</th>\n",
       "    </tr>\n",
       "  </thead>\n",
       "  <tbody>\n",
       "    <tr>\n",
       "      <th>0</th>\n",
       "      <td>2022-08-03</td>\n",
       "      <td>27.429552</td>\n",
       "    </tr>\n",
       "    <tr>\n",
       "      <th>1</th>\n",
       "      <td>2022-08-04</td>\n",
       "      <td>27.440382</td>\n",
       "    </tr>\n",
       "    <tr>\n",
       "      <th>2</th>\n",
       "      <td>2022-08-05</td>\n",
       "      <td>26.785380</td>\n",
       "    </tr>\n",
       "    <tr>\n",
       "      <th>3</th>\n",
       "      <td>2022-08-06</td>\n",
       "      <td>26.327880</td>\n",
       "    </tr>\n",
       "    <tr>\n",
       "      <th>4</th>\n",
       "      <td>2022-08-07</td>\n",
       "      <td>26.468300</td>\n",
       "    </tr>\n",
       "    <tr>\n",
       "      <th>5</th>\n",
       "      <td>2022-08-08</td>\n",
       "      <td>26.833717</td>\n",
       "    </tr>\n",
       "    <tr>\n",
       "      <th>6</th>\n",
       "      <td>2022-08-09</td>\n",
       "      <td>26.387049</td>\n",
       "    </tr>\n",
       "    <tr>\n",
       "      <th>7</th>\n",
       "      <td>2022-08-10</td>\n",
       "      <td>25.835386</td>\n",
       "    </tr>\n",
       "    <tr>\n",
       "      <th>8</th>\n",
       "      <td>2022-08-11</td>\n",
       "      <td>25.686630</td>\n",
       "    </tr>\n",
       "    <tr>\n",
       "      <th>9</th>\n",
       "      <td>2022-08-12</td>\n",
       "      <td>25.603302</td>\n",
       "    </tr>\n",
       "    <tr>\n",
       "      <th>10</th>\n",
       "      <td>2022-08-13</td>\n",
       "      <td>25.650797</td>\n",
       "    </tr>\n",
       "    <tr>\n",
       "      <th>11</th>\n",
       "      <td>2022-08-14</td>\n",
       "      <td>25.657465</td>\n",
       "    </tr>\n",
       "    <tr>\n",
       "      <th>12</th>\n",
       "      <td>2022-08-15</td>\n",
       "      <td>25.968720</td>\n",
       "    </tr>\n",
       "    <tr>\n",
       "      <th>13</th>\n",
       "      <td>2022-08-16</td>\n",
       "      <td>25.596634</td>\n",
       "    </tr>\n",
       "    <tr>\n",
       "      <th>14</th>\n",
       "      <td>2022-08-17</td>\n",
       "      <td>25.541216</td>\n",
       "    </tr>\n",
       "  </tbody>\n",
       "</table>\n",
       "</div>"
      ],
      "text/plain": [
       "          date  temprature\n",
       "0   2022-08-03   27.429552\n",
       "1   2022-08-04   27.440382\n",
       "2   2022-08-05   26.785380\n",
       "3   2022-08-06   26.327880\n",
       "4   2022-08-07   26.468300\n",
       "5   2022-08-08   26.833717\n",
       "6   2022-08-09   26.387049\n",
       "7   2022-08-10   25.835386\n",
       "8   2022-08-11   25.686630\n",
       "9   2022-08-12   25.603302\n",
       "10  2022-08-13   25.650797\n",
       "11  2022-08-14   25.657465\n",
       "12  2022-08-15   25.968720\n",
       "13  2022-08-16   25.596634\n",
       "14  2022-08-17   25.541216"
      ]
     },
     "execution_count": 4,
     "metadata": {},
     "output_type": "execute_result"
    }
   ],
   "source": [
    "data"
   ]
  },
  {
   "cell_type": "code",
   "execution_count": 5,
   "id": "empty-contact",
   "metadata": {
    "scrolled": true
   },
   "outputs": [
    {
     "data": {
      "text/plain": [
       "Index(['date', 'temprature'], dtype='object')"
      ]
     },
     "execution_count": 5,
     "metadata": {},
     "output_type": "execute_result"
    }
   ],
   "source": [
    "data.columns"
   ]
  },
  {
   "cell_type": "markdown",
   "id": "vocational-things",
   "metadata": {},
   "source": [
    "### Dividing into X and Y"
   ]
  },
  {
   "cell_type": "code",
   "execution_count": 6,
   "id": "approved-hypothesis",
   "metadata": {},
   "outputs": [],
   "source": [
    "psudo_x=[i[8:] for i in data['date']]"
   ]
  },
  {
   "cell_type": "code",
   "execution_count": 7,
   "id": "magnetic-relationship",
   "metadata": {},
   "outputs": [
    {
     "data": {
      "text/plain": [
       "datetime.date(2022, 8, 3)"
      ]
     },
     "execution_count": 7,
     "metadata": {},
     "output_type": "execute_result"
    }
   ],
   "source": [
    "datetime.date(int(data['date'][0][:4]),int(data['date'][0][5:7]),int(data['date'][0][8:]))"
   ]
  },
  {
   "cell_type": "code",
   "execution_count": 8,
   "id": "sticky-trick",
   "metadata": {},
   "outputs": [],
   "source": [
    "x=[datetime.datetime.toordinal(datetime.date(int(i[:4]),int(i[5:7]),int(i[8:]))) for i in data['date']]"
   ]
  },
  {
   "cell_type": "code",
   "execution_count": 9,
   "id": "limiting-syndication",
   "metadata": {},
   "outputs": [
    {
     "data": {
      "text/plain": [
       "[738370,\n",
       " 738371,\n",
       " 738372,\n",
       " 738373,\n",
       " 738374,\n",
       " 738375,\n",
       " 738376,\n",
       " 738377,\n",
       " 738378,\n",
       " 738379,\n",
       " 738380,\n",
       " 738381,\n",
       " 738382,\n",
       " 738383,\n",
       " 738384]"
      ]
     },
     "execution_count": 9,
     "metadata": {},
     "output_type": "execute_result"
    }
   ],
   "source": [
    "x"
   ]
  },
  {
   "cell_type": "code",
   "execution_count": 10,
   "id": "persistent-madonna",
   "metadata": {},
   "outputs": [],
   "source": [
    "y=data['temprature']"
   ]
  },
  {
   "cell_type": "markdown",
   "id": "general-chuck",
   "metadata": {},
   "source": [
    "### Plotting Scatter Plot of Data"
   ]
  },
  {
   "cell_type": "code",
   "execution_count": 11,
   "id": "abstract-indonesia",
   "metadata": {},
   "outputs": [],
   "source": [
    "matplotlib.pyplot.figure('Mumbai Last 2 Week Temprature')\n",
    "matplotlib.pyplot.scatter(psudo_x,y,label=\"Original Data\")\n",
    "matplotlib.pyplot.xlabel('Dates of August 2022')\n",
    "matplotlib.pyplot.legend()\n",
    "matplotlib.pyplot.show()"
   ]
  },
  {
   "cell_type": "markdown",
   "id": "breeding-thing",
   "metadata": {},
   "source": [
    "### Taking slope, intercept, regression-coefficient and other values"
   ]
  },
  {
   "cell_type": "code",
   "execution_count": 12,
   "id": "specified-bathroom",
   "metadata": {},
   "outputs": [
    {
     "name": "stdout",
     "output_type": "stream",
     "text": [
      "Slope ->  -0.13092699285714288 \n",
      "intercept ->  96699.69436554525 \n",
      "r ->  -0.885953273539861 \n",
      "p ->  1.1055054294643819e-05 \n",
      "std_err ->  0.01900875074544775\n"
     ]
    }
   ],
   "source": [
    "slope, intercept, r, p, std_err = stats.linregress(x,y)\n",
    "print(\"Slope -> \",slope,\"\\nintercept -> \",intercept,\"\\nr -> \",r,\"\\np -> \",p,\"\\nstd_err -> \",std_err)"
   ]
  },
  {
   "cell_type": "markdown",
   "id": "understood-things",
   "metadata": {},
   "source": [
    "### Plotting Original of Data with line of regression"
   ]
  },
  {
   "cell_type": "code",
   "execution_count": 60,
   "id": "utility-minnesota",
   "metadata": {},
   "outputs": [],
   "source": [
    "matplotlib.pyplot.figure('Mumbai Last 2 Week Temprature ')\n",
    "matplotlib.pyplot.scatter(psudo_x,y,label=\"Original Data\")\n",
    "regressionline=[intercept+slope*i for i in x]\n",
    "matplotlib.pyplot.plot(psudo_x,regressionline,label=\"Line of Regression\")\n",
    "matplotlib.pyplot.xlabel('Dates of August 2022')\n",
    "matplotlib.pyplot.legend()\n",
    "matplotlib.pyplot.show()"
   ]
  },
  {
   "cell_type": "code",
   "execution_count": null,
   "id": "similar-fourth",
   "metadata": {},
   "outputs": [],
   "source": []
  },
  {
   "cell_type": "code",
   "execution_count": null,
   "id": "dated-transcript",
   "metadata": {},
   "outputs": [],
   "source": []
  }
 ],
 "metadata": {
  "kernelspec": {
   "display_name": "Python 3",
   "language": "python",
   "name": "python3"
  },
  "language_info": {
   "codemirror_mode": {
    "name": "ipython",
    "version": 3
   },
   "file_extension": ".py",
   "mimetype": "text/x-python",
   "name": "python",
   "nbconvert_exporter": "python",
   "pygments_lexer": "ipython3",
   "version": "3.10.8 (tags/v3.10.8:aaaf517, Oct 11 2022, 16:50:30) [MSC v.1933 64 bit (AMD64)]"
  },
  "vscode": {
   "interpreter": {
    "hash": "26de051ba29f2982a8de78e945f0abaf191376122a1563185a90213a26c5da77"
   }
  }
 },
 "nbformat": 4,
 "nbformat_minor": 5
}
