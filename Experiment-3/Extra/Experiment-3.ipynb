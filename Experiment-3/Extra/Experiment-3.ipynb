{
 "cells": [
  {
   "cell_type": "markdown",
   "id": "familiar-planner",
   "metadata": {},
   "source": [
    "<h1 style=\"text-align:center;font-size:50px;\">Ensemble Learning</h1>"
   ]
  },
  {
   "cell_type": "markdown",
   "id": "sharp-broadcasting",
   "metadata": {},
   "source": [
    "# Imports 👇"
   ]
  },
  {
   "cell_type": "code",
   "execution_count": 55,
   "id": "amino-anderson",
   "metadata": {},
   "outputs": [],
   "source": [
    "import pandas\n",
    "import numpy\n",
    "from sklearn import svm\n",
    "from sklearn.ensemble import BaggingClassifier\n",
    "import xgboost\n",
    "from sklearn.ensemble import RandomForestClassifier\n",
    "from sklearn.ensemble import GradientBoostingClassifier\n",
    "from sklearn.metrics import confusion_matrix,classification_report\n",
    "import seaborn\n",
    "import matplotlib.pyplot as pyplot"
   ]
  },
  {
   "cell_type": "markdown",
   "id": "accepted-ability",
   "metadata": {},
   "source": [
    "##### 👇 setting the matplotlib configurations"
   ]
  },
  {
   "cell_type": "code",
   "execution_count": 254,
   "id": "matched-controversy",
   "metadata": {},
   "outputs": [],
   "source": [
    "%matplotlib inline\n",
    "pyplot.rcParams[\"figure.figsize\"] = (8, 5)"
   ]
  },
  {
   "cell_type": "markdown",
   "id": "horizontal-nurse",
   "metadata": {},
   "source": [
    "# Data Reading 👇"
   ]
  },
  {
   "cell_type": "code",
   "execution_count": 191,
   "id": "beginning-scientist",
   "metadata": {},
   "outputs": [],
   "source": [
    "# this are the output classes, only two classes are there paitient will dead or alive\n",
    "classes_list=['Not_Failed','Failed']"
   ]
  },
  {
   "cell_type": "code",
   "execution_count": 192,
   "id": "hungarian-athletics",
   "metadata": {},
   "outputs": [],
   "source": [
    "data=pandas.read_csv('./Brain_failure_healthcare-dataset-stroke-data.csv')"
   ]
  },
  {
   "cell_type": "markdown",
   "id": "blank-mailman",
   "metadata": {},
   "source": [
    "### 👇 cheking the columns, data, data type information, correlation between attributes"
   ]
  },
  {
   "cell_type": "code",
   "execution_count": 193,
   "id": "nonprofit-object",
   "metadata": {},
   "outputs": [
    {
     "data": {
      "text/plain": [
       "Index(['id', 'gender', 'age', 'hypertension', 'heart_disease', 'ever_married',\n",
       "       'work_type', 'Residence_type', 'avg_glucose_level', 'bmi',\n",
       "       'smoking_status', 'stroke'],\n",
       "      dtype='object')"
      ]
     },
     "execution_count": 193,
     "metadata": {},
     "output_type": "execute_result"
    }
   ],
   "source": [
    "data.columns"
   ]
  },
  {
   "cell_type": "code",
   "execution_count": 194,
   "id": "numeric-emission",
   "metadata": {},
   "outputs": [
    {
     "data": {
      "text/plain": [
       "0    4861\n",
       "1     249\n",
       "Name: stroke, dtype: int64"
      ]
     },
     "execution_count": 194,
     "metadata": {},
     "output_type": "execute_result"
    }
   ],
   "source": [
    "data['stroke'].value_counts()"
   ]
  },
  {
   "cell_type": "code",
   "execution_count": 195,
   "id": "atomic-wesley",
   "metadata": {},
   "outputs": [
    {
     "data": {
      "text/html": [
       "<div>\n",
       "<style scoped>\n",
       "    .dataframe tbody tr th:only-of-type {\n",
       "        vertical-align: middle;\n",
       "    }\n",
       "\n",
       "    .dataframe tbody tr th {\n",
       "        vertical-align: top;\n",
       "    }\n",
       "\n",
       "    .dataframe thead th {\n",
       "        text-align: right;\n",
       "    }\n",
       "</style>\n",
       "<table border=\"1\" class=\"dataframe\">\n",
       "  <thead>\n",
       "    <tr style=\"text-align: right;\">\n",
       "      <th></th>\n",
       "      <th>id</th>\n",
       "      <th>gender</th>\n",
       "      <th>age</th>\n",
       "      <th>hypertension</th>\n",
       "      <th>heart_disease</th>\n",
       "      <th>ever_married</th>\n",
       "      <th>work_type</th>\n",
       "      <th>Residence_type</th>\n",
       "      <th>avg_glucose_level</th>\n",
       "      <th>bmi</th>\n",
       "      <th>smoking_status</th>\n",
       "      <th>stroke</th>\n",
       "    </tr>\n",
       "  </thead>\n",
       "  <tbody>\n",
       "    <tr>\n",
       "      <th>0</th>\n",
       "      <td>9046</td>\n",
       "      <td>Male</td>\n",
       "      <td>67.0</td>\n",
       "      <td>0</td>\n",
       "      <td>1</td>\n",
       "      <td>Yes</td>\n",
       "      <td>Private</td>\n",
       "      <td>Urban</td>\n",
       "      <td>228.69</td>\n",
       "      <td>36.6</td>\n",
       "      <td>formerly smoked</td>\n",
       "      <td>1</td>\n",
       "    </tr>\n",
       "    <tr>\n",
       "      <th>1</th>\n",
       "      <td>51676</td>\n",
       "      <td>Female</td>\n",
       "      <td>61.0</td>\n",
       "      <td>0</td>\n",
       "      <td>0</td>\n",
       "      <td>Yes</td>\n",
       "      <td>Self-employed</td>\n",
       "      <td>Rural</td>\n",
       "      <td>202.21</td>\n",
       "      <td>NaN</td>\n",
       "      <td>never smoked</td>\n",
       "      <td>1</td>\n",
       "    </tr>\n",
       "    <tr>\n",
       "      <th>2</th>\n",
       "      <td>31112</td>\n",
       "      <td>Male</td>\n",
       "      <td>80.0</td>\n",
       "      <td>0</td>\n",
       "      <td>1</td>\n",
       "      <td>Yes</td>\n",
       "      <td>Private</td>\n",
       "      <td>Rural</td>\n",
       "      <td>105.92</td>\n",
       "      <td>32.5</td>\n",
       "      <td>never smoked</td>\n",
       "      <td>1</td>\n",
       "    </tr>\n",
       "    <tr>\n",
       "      <th>3</th>\n",
       "      <td>60182</td>\n",
       "      <td>Female</td>\n",
       "      <td>49.0</td>\n",
       "      <td>0</td>\n",
       "      <td>0</td>\n",
       "      <td>Yes</td>\n",
       "      <td>Private</td>\n",
       "      <td>Urban</td>\n",
       "      <td>171.23</td>\n",
       "      <td>34.4</td>\n",
       "      <td>smokes</td>\n",
       "      <td>1</td>\n",
       "    </tr>\n",
       "    <tr>\n",
       "      <th>4</th>\n",
       "      <td>1665</td>\n",
       "      <td>Female</td>\n",
       "      <td>79.0</td>\n",
       "      <td>1</td>\n",
       "      <td>0</td>\n",
       "      <td>Yes</td>\n",
       "      <td>Self-employed</td>\n",
       "      <td>Rural</td>\n",
       "      <td>174.12</td>\n",
       "      <td>24.0</td>\n",
       "      <td>never smoked</td>\n",
       "      <td>1</td>\n",
       "    </tr>\n",
       "    <tr>\n",
       "      <th>...</th>\n",
       "      <td>...</td>\n",
       "      <td>...</td>\n",
       "      <td>...</td>\n",
       "      <td>...</td>\n",
       "      <td>...</td>\n",
       "      <td>...</td>\n",
       "      <td>...</td>\n",
       "      <td>...</td>\n",
       "      <td>...</td>\n",
       "      <td>...</td>\n",
       "      <td>...</td>\n",
       "      <td>...</td>\n",
       "    </tr>\n",
       "    <tr>\n",
       "      <th>5105</th>\n",
       "      <td>18234</td>\n",
       "      <td>Female</td>\n",
       "      <td>80.0</td>\n",
       "      <td>1</td>\n",
       "      <td>0</td>\n",
       "      <td>Yes</td>\n",
       "      <td>Private</td>\n",
       "      <td>Urban</td>\n",
       "      <td>83.75</td>\n",
       "      <td>NaN</td>\n",
       "      <td>never smoked</td>\n",
       "      <td>0</td>\n",
       "    </tr>\n",
       "    <tr>\n",
       "      <th>5106</th>\n",
       "      <td>44873</td>\n",
       "      <td>Female</td>\n",
       "      <td>81.0</td>\n",
       "      <td>0</td>\n",
       "      <td>0</td>\n",
       "      <td>Yes</td>\n",
       "      <td>Self-employed</td>\n",
       "      <td>Urban</td>\n",
       "      <td>125.20</td>\n",
       "      <td>40.0</td>\n",
       "      <td>never smoked</td>\n",
       "      <td>0</td>\n",
       "    </tr>\n",
       "    <tr>\n",
       "      <th>5107</th>\n",
       "      <td>19723</td>\n",
       "      <td>Female</td>\n",
       "      <td>35.0</td>\n",
       "      <td>0</td>\n",
       "      <td>0</td>\n",
       "      <td>Yes</td>\n",
       "      <td>Self-employed</td>\n",
       "      <td>Rural</td>\n",
       "      <td>82.99</td>\n",
       "      <td>30.6</td>\n",
       "      <td>never smoked</td>\n",
       "      <td>0</td>\n",
       "    </tr>\n",
       "    <tr>\n",
       "      <th>5108</th>\n",
       "      <td>37544</td>\n",
       "      <td>Male</td>\n",
       "      <td>51.0</td>\n",
       "      <td>0</td>\n",
       "      <td>0</td>\n",
       "      <td>Yes</td>\n",
       "      <td>Private</td>\n",
       "      <td>Rural</td>\n",
       "      <td>166.29</td>\n",
       "      <td>25.6</td>\n",
       "      <td>formerly smoked</td>\n",
       "      <td>0</td>\n",
       "    </tr>\n",
       "    <tr>\n",
       "      <th>5109</th>\n",
       "      <td>44679</td>\n",
       "      <td>Female</td>\n",
       "      <td>44.0</td>\n",
       "      <td>0</td>\n",
       "      <td>0</td>\n",
       "      <td>Yes</td>\n",
       "      <td>Govt_job</td>\n",
       "      <td>Urban</td>\n",
       "      <td>85.28</td>\n",
       "      <td>26.2</td>\n",
       "      <td>Unknown</td>\n",
       "      <td>0</td>\n",
       "    </tr>\n",
       "  </tbody>\n",
       "</table>\n",
       "<p>5110 rows × 12 columns</p>\n",
       "</div>"
      ],
      "text/plain": [
       "         id  gender   age  hypertension  heart_disease ever_married  \\\n",
       "0      9046    Male  67.0             0              1          Yes   \n",
       "1     51676  Female  61.0             0              0          Yes   \n",
       "2     31112    Male  80.0             0              1          Yes   \n",
       "3     60182  Female  49.0             0              0          Yes   \n",
       "4      1665  Female  79.0             1              0          Yes   \n",
       "...     ...     ...   ...           ...            ...          ...   \n",
       "5105  18234  Female  80.0             1              0          Yes   \n",
       "5106  44873  Female  81.0             0              0          Yes   \n",
       "5107  19723  Female  35.0             0              0          Yes   \n",
       "5108  37544    Male  51.0             0              0          Yes   \n",
       "5109  44679  Female  44.0             0              0          Yes   \n",
       "\n",
       "          work_type Residence_type  avg_glucose_level   bmi   smoking_status  \\\n",
       "0           Private          Urban             228.69  36.6  formerly smoked   \n",
       "1     Self-employed          Rural             202.21   NaN     never smoked   \n",
       "2           Private          Rural             105.92  32.5     never smoked   \n",
       "3           Private          Urban             171.23  34.4           smokes   \n",
       "4     Self-employed          Rural             174.12  24.0     never smoked   \n",
       "...             ...            ...                ...   ...              ...   \n",
       "5105        Private          Urban              83.75   NaN     never smoked   \n",
       "5106  Self-employed          Urban             125.20  40.0     never smoked   \n",
       "5107  Self-employed          Rural              82.99  30.6     never smoked   \n",
       "5108        Private          Rural             166.29  25.6  formerly smoked   \n",
       "5109       Govt_job          Urban              85.28  26.2          Unknown   \n",
       "\n",
       "      stroke  \n",
       "0          1  \n",
       "1          1  \n",
       "2          1  \n",
       "3          1  \n",
       "4          1  \n",
       "...      ...  \n",
       "5105       0  \n",
       "5106       0  \n",
       "5107       0  \n",
       "5108       0  \n",
       "5109       0  \n",
       "\n",
       "[5110 rows x 12 columns]"
      ]
     },
     "execution_count": 195,
     "metadata": {},
     "output_type": "execute_result"
    }
   ],
   "source": [
    "data"
   ]
  },
  {
   "cell_type": "code",
   "execution_count": 196,
   "id": "institutional-austin",
   "metadata": {},
   "outputs": [
    {
     "name": "stdout",
     "output_type": "stream",
     "text": [
      "<class 'pandas.core.frame.DataFrame'>\n",
      "RangeIndex: 5110 entries, 0 to 5109\n",
      "Data columns (total 12 columns):\n",
      " #   Column             Non-Null Count  Dtype  \n",
      "---  ------             --------------  -----  \n",
      " 0   id                 5110 non-null   int64  \n",
      " 1   gender             5110 non-null   object \n",
      " 2   age                5110 non-null   float64\n",
      " 3   hypertension       5110 non-null   int64  \n",
      " 4   heart_disease      5110 non-null   int64  \n",
      " 5   ever_married       5110 non-null   object \n",
      " 6   work_type          5110 non-null   object \n",
      " 7   Residence_type     5110 non-null   object \n",
      " 8   avg_glucose_level  5110 non-null   float64\n",
      " 9   bmi                4909 non-null   float64\n",
      " 10  smoking_status     5110 non-null   object \n",
      " 11  stroke             5110 non-null   int64  \n",
      "dtypes: float64(3), int64(4), object(5)\n",
      "memory usage: 479.2+ KB\n"
     ]
    }
   ],
   "source": [
    "data.info()"
   ]
  },
  {
   "cell_type": "code",
   "execution_count": 197,
   "id": "shared-letter",
   "metadata": {},
   "outputs": [
    {
     "data": {
      "text/html": [
       "<div>\n",
       "<style scoped>\n",
       "    .dataframe tbody tr th:only-of-type {\n",
       "        vertical-align: middle;\n",
       "    }\n",
       "\n",
       "    .dataframe tbody tr th {\n",
       "        vertical-align: top;\n",
       "    }\n",
       "\n",
       "    .dataframe thead th {\n",
       "        text-align: right;\n",
       "    }\n",
       "</style>\n",
       "<table border=\"1\" class=\"dataframe\">\n",
       "  <thead>\n",
       "    <tr style=\"text-align: right;\">\n",
       "      <th></th>\n",
       "      <th>id</th>\n",
       "      <th>age</th>\n",
       "      <th>hypertension</th>\n",
       "      <th>heart_disease</th>\n",
       "      <th>avg_glucose_level</th>\n",
       "      <th>bmi</th>\n",
       "      <th>stroke</th>\n",
       "    </tr>\n",
       "  </thead>\n",
       "  <tbody>\n",
       "    <tr>\n",
       "      <th>count</th>\n",
       "      <td>5110.000000</td>\n",
       "      <td>5110.000000</td>\n",
       "      <td>5110.000000</td>\n",
       "      <td>5110.000000</td>\n",
       "      <td>5110.000000</td>\n",
       "      <td>4909.000000</td>\n",
       "      <td>5110.000000</td>\n",
       "    </tr>\n",
       "    <tr>\n",
       "      <th>mean</th>\n",
       "      <td>36517.829354</td>\n",
       "      <td>43.226614</td>\n",
       "      <td>0.097456</td>\n",
       "      <td>0.054012</td>\n",
       "      <td>106.147677</td>\n",
       "      <td>28.893237</td>\n",
       "      <td>0.048728</td>\n",
       "    </tr>\n",
       "    <tr>\n",
       "      <th>std</th>\n",
       "      <td>21161.721625</td>\n",
       "      <td>22.612647</td>\n",
       "      <td>0.296607</td>\n",
       "      <td>0.226063</td>\n",
       "      <td>45.283560</td>\n",
       "      <td>7.854067</td>\n",
       "      <td>0.215320</td>\n",
       "    </tr>\n",
       "    <tr>\n",
       "      <th>min</th>\n",
       "      <td>67.000000</td>\n",
       "      <td>0.080000</td>\n",
       "      <td>0.000000</td>\n",
       "      <td>0.000000</td>\n",
       "      <td>55.120000</td>\n",
       "      <td>10.300000</td>\n",
       "      <td>0.000000</td>\n",
       "    </tr>\n",
       "    <tr>\n",
       "      <th>25%</th>\n",
       "      <td>17741.250000</td>\n",
       "      <td>25.000000</td>\n",
       "      <td>0.000000</td>\n",
       "      <td>0.000000</td>\n",
       "      <td>77.245000</td>\n",
       "      <td>23.500000</td>\n",
       "      <td>0.000000</td>\n",
       "    </tr>\n",
       "    <tr>\n",
       "      <th>50%</th>\n",
       "      <td>36932.000000</td>\n",
       "      <td>45.000000</td>\n",
       "      <td>0.000000</td>\n",
       "      <td>0.000000</td>\n",
       "      <td>91.885000</td>\n",
       "      <td>28.100000</td>\n",
       "      <td>0.000000</td>\n",
       "    </tr>\n",
       "    <tr>\n",
       "      <th>75%</th>\n",
       "      <td>54682.000000</td>\n",
       "      <td>61.000000</td>\n",
       "      <td>0.000000</td>\n",
       "      <td>0.000000</td>\n",
       "      <td>114.090000</td>\n",
       "      <td>33.100000</td>\n",
       "      <td>0.000000</td>\n",
       "    </tr>\n",
       "    <tr>\n",
       "      <th>max</th>\n",
       "      <td>72940.000000</td>\n",
       "      <td>82.000000</td>\n",
       "      <td>1.000000</td>\n",
       "      <td>1.000000</td>\n",
       "      <td>271.740000</td>\n",
       "      <td>97.600000</td>\n",
       "      <td>1.000000</td>\n",
       "    </tr>\n",
       "  </tbody>\n",
       "</table>\n",
       "</div>"
      ],
      "text/plain": [
       "                 id          age  hypertension  heart_disease  \\\n",
       "count   5110.000000  5110.000000   5110.000000    5110.000000   \n",
       "mean   36517.829354    43.226614      0.097456       0.054012   \n",
       "std    21161.721625    22.612647      0.296607       0.226063   \n",
       "min       67.000000     0.080000      0.000000       0.000000   \n",
       "25%    17741.250000    25.000000      0.000000       0.000000   \n",
       "50%    36932.000000    45.000000      0.000000       0.000000   \n",
       "75%    54682.000000    61.000000      0.000000       0.000000   \n",
       "max    72940.000000    82.000000      1.000000       1.000000   \n",
       "\n",
       "       avg_glucose_level          bmi       stroke  \n",
       "count        5110.000000  4909.000000  5110.000000  \n",
       "mean          106.147677    28.893237     0.048728  \n",
       "std            45.283560     7.854067     0.215320  \n",
       "min            55.120000    10.300000     0.000000  \n",
       "25%            77.245000    23.500000     0.000000  \n",
       "50%            91.885000    28.100000     0.000000  \n",
       "75%           114.090000    33.100000     0.000000  \n",
       "max           271.740000    97.600000     1.000000  "
      ]
     },
     "execution_count": 197,
     "metadata": {},
     "output_type": "execute_result"
    }
   ],
   "source": [
    "data.describe()"
   ]
  },
  {
   "cell_type": "code",
   "execution_count": 198,
   "id": "romance-amazon",
   "metadata": {},
   "outputs": [
    {
     "data": {
      "text/html": [
       "<div>\n",
       "<style scoped>\n",
       "    .dataframe tbody tr th:only-of-type {\n",
       "        vertical-align: middle;\n",
       "    }\n",
       "\n",
       "    .dataframe tbody tr th {\n",
       "        vertical-align: top;\n",
       "    }\n",
       "\n",
       "    .dataframe thead th {\n",
       "        text-align: right;\n",
       "    }\n",
       "</style>\n",
       "<table border=\"1\" class=\"dataframe\">\n",
       "  <thead>\n",
       "    <tr style=\"text-align: right;\">\n",
       "      <th></th>\n",
       "      <th>id</th>\n",
       "      <th>age</th>\n",
       "      <th>hypertension</th>\n",
       "      <th>heart_disease</th>\n",
       "      <th>avg_glucose_level</th>\n",
       "      <th>bmi</th>\n",
       "      <th>stroke</th>\n",
       "    </tr>\n",
       "  </thead>\n",
       "  <tbody>\n",
       "    <tr>\n",
       "      <th>id</th>\n",
       "      <td>1.000000</td>\n",
       "      <td>0.003538</td>\n",
       "      <td>0.003550</td>\n",
       "      <td>-0.001296</td>\n",
       "      <td>0.001092</td>\n",
       "      <td>0.003084</td>\n",
       "      <td>0.006388</td>\n",
       "    </tr>\n",
       "    <tr>\n",
       "      <th>age</th>\n",
       "      <td>0.003538</td>\n",
       "      <td>1.000000</td>\n",
       "      <td>0.276398</td>\n",
       "      <td>0.263796</td>\n",
       "      <td>0.238171</td>\n",
       "      <td>0.333398</td>\n",
       "      <td>0.245257</td>\n",
       "    </tr>\n",
       "    <tr>\n",
       "      <th>hypertension</th>\n",
       "      <td>0.003550</td>\n",
       "      <td>0.276398</td>\n",
       "      <td>1.000000</td>\n",
       "      <td>0.108306</td>\n",
       "      <td>0.174474</td>\n",
       "      <td>0.167811</td>\n",
       "      <td>0.127904</td>\n",
       "    </tr>\n",
       "    <tr>\n",
       "      <th>heart_disease</th>\n",
       "      <td>-0.001296</td>\n",
       "      <td>0.263796</td>\n",
       "      <td>0.108306</td>\n",
       "      <td>1.000000</td>\n",
       "      <td>0.161857</td>\n",
       "      <td>0.041357</td>\n",
       "      <td>0.134914</td>\n",
       "    </tr>\n",
       "    <tr>\n",
       "      <th>avg_glucose_level</th>\n",
       "      <td>0.001092</td>\n",
       "      <td>0.238171</td>\n",
       "      <td>0.174474</td>\n",
       "      <td>0.161857</td>\n",
       "      <td>1.000000</td>\n",
       "      <td>0.175502</td>\n",
       "      <td>0.131945</td>\n",
       "    </tr>\n",
       "    <tr>\n",
       "      <th>bmi</th>\n",
       "      <td>0.003084</td>\n",
       "      <td>0.333398</td>\n",
       "      <td>0.167811</td>\n",
       "      <td>0.041357</td>\n",
       "      <td>0.175502</td>\n",
       "      <td>1.000000</td>\n",
       "      <td>0.042374</td>\n",
       "    </tr>\n",
       "    <tr>\n",
       "      <th>stroke</th>\n",
       "      <td>0.006388</td>\n",
       "      <td>0.245257</td>\n",
       "      <td>0.127904</td>\n",
       "      <td>0.134914</td>\n",
       "      <td>0.131945</td>\n",
       "      <td>0.042374</td>\n",
       "      <td>1.000000</td>\n",
       "    </tr>\n",
       "  </tbody>\n",
       "</table>\n",
       "</div>"
      ],
      "text/plain": [
       "                         id       age  hypertension  heart_disease  \\\n",
       "id                 1.000000  0.003538      0.003550      -0.001296   \n",
       "age                0.003538  1.000000      0.276398       0.263796   \n",
       "hypertension       0.003550  0.276398      1.000000       0.108306   \n",
       "heart_disease     -0.001296  0.263796      0.108306       1.000000   \n",
       "avg_glucose_level  0.001092  0.238171      0.174474       0.161857   \n",
       "bmi                0.003084  0.333398      0.167811       0.041357   \n",
       "stroke             0.006388  0.245257      0.127904       0.134914   \n",
       "\n",
       "                   avg_glucose_level       bmi    stroke  \n",
       "id                          0.001092  0.003084  0.006388  \n",
       "age                         0.238171  0.333398  0.245257  \n",
       "hypertension                0.174474  0.167811  0.127904  \n",
       "heart_disease               0.161857  0.041357  0.134914  \n",
       "avg_glucose_level           1.000000  0.175502  0.131945  \n",
       "bmi                         0.175502  1.000000  0.042374  \n",
       "stroke                      0.131945  0.042374  1.000000  "
      ]
     },
     "execution_count": 198,
     "metadata": {},
     "output_type": "execute_result"
    }
   ],
   "source": [
    "data.corr()"
   ]
  },
  {
   "cell_type": "markdown",
   "id": "chemical-glory",
   "metadata": {},
   "source": [
    "# Dimentiality reduction"
   ]
  },
  {
   "cell_type": "code",
   "execution_count": 199,
   "id": "official-trailer",
   "metadata": {},
   "outputs": [],
   "source": [
    "data=data.drop(['id','bmi'],axis=1)"
   ]
  },
  {
   "cell_type": "markdown",
   "id": "proof-fossil",
   "metadata": {},
   "source": [
    "# data Cleaning"
   ]
  },
  {
   "cell_type": "code",
   "execution_count": 200,
   "id": "imperial-stick",
   "metadata": {},
   "outputs": [],
   "source": [
    "data=data.replace(\"Male\",1)\n",
    "data=data.replace(\"Female\",0)\n",
    "data=data.replace(\"Other\",0)\n",
    "\n",
    "\n",
    "data=data.drop(['ever_married','work_type','Residence_type'],axis=1)\n",
    "\n",
    "data=data.replace(\"never smoked\",0)\n",
    "data=data.replace(\"Unknown\",0)\n",
    "data=data.replace(\"formerly smoked\",1)\n",
    "data=data.replace(\"smokes\",1)"
   ]
  },
  {
   "cell_type": "markdown",
   "id": "respiratory-washer",
   "metadata": {},
   "source": [
    "# Data Visualization 👇"
   ]
  },
  {
   "cell_type": "code",
   "execution_count": 201,
   "id": "guilty-choir",
   "metadata": {},
   "outputs": [
    {
     "data": {
      "text/html": [
       "<div>\n",
       "<style scoped>\n",
       "    .dataframe tbody tr th:only-of-type {\n",
       "        vertical-align: middle;\n",
       "    }\n",
       "\n",
       "    .dataframe tbody tr th {\n",
       "        vertical-align: top;\n",
       "    }\n",
       "\n",
       "    .dataframe thead th {\n",
       "        text-align: right;\n",
       "    }\n",
       "</style>\n",
       "<table border=\"1\" class=\"dataframe\">\n",
       "  <thead>\n",
       "    <tr style=\"text-align: right;\">\n",
       "      <th></th>\n",
       "      <th>gender</th>\n",
       "      <th>age</th>\n",
       "      <th>hypertension</th>\n",
       "      <th>heart_disease</th>\n",
       "      <th>avg_glucose_level</th>\n",
       "      <th>smoking_status</th>\n",
       "      <th>stroke</th>\n",
       "    </tr>\n",
       "  </thead>\n",
       "  <tbody>\n",
       "    <tr>\n",
       "      <th>0</th>\n",
       "      <td>1</td>\n",
       "      <td>67.0</td>\n",
       "      <td>0</td>\n",
       "      <td>1</td>\n",
       "      <td>228.69</td>\n",
       "      <td>1</td>\n",
       "      <td>1</td>\n",
       "    </tr>\n",
       "    <tr>\n",
       "      <th>1</th>\n",
       "      <td>0</td>\n",
       "      <td>61.0</td>\n",
       "      <td>0</td>\n",
       "      <td>0</td>\n",
       "      <td>202.21</td>\n",
       "      <td>0</td>\n",
       "      <td>1</td>\n",
       "    </tr>\n",
       "    <tr>\n",
       "      <th>2</th>\n",
       "      <td>1</td>\n",
       "      <td>80.0</td>\n",
       "      <td>0</td>\n",
       "      <td>1</td>\n",
       "      <td>105.92</td>\n",
       "      <td>0</td>\n",
       "      <td>1</td>\n",
       "    </tr>\n",
       "    <tr>\n",
       "      <th>3</th>\n",
       "      <td>0</td>\n",
       "      <td>49.0</td>\n",
       "      <td>0</td>\n",
       "      <td>0</td>\n",
       "      <td>171.23</td>\n",
       "      <td>1</td>\n",
       "      <td>1</td>\n",
       "    </tr>\n",
       "    <tr>\n",
       "      <th>4</th>\n",
       "      <td>0</td>\n",
       "      <td>79.0</td>\n",
       "      <td>1</td>\n",
       "      <td>0</td>\n",
       "      <td>174.12</td>\n",
       "      <td>0</td>\n",
       "      <td>1</td>\n",
       "    </tr>\n",
       "    <tr>\n",
       "      <th>...</th>\n",
       "      <td>...</td>\n",
       "      <td>...</td>\n",
       "      <td>...</td>\n",
       "      <td>...</td>\n",
       "      <td>...</td>\n",
       "      <td>...</td>\n",
       "      <td>...</td>\n",
       "    </tr>\n",
       "    <tr>\n",
       "      <th>5105</th>\n",
       "      <td>0</td>\n",
       "      <td>80.0</td>\n",
       "      <td>1</td>\n",
       "      <td>0</td>\n",
       "      <td>83.75</td>\n",
       "      <td>0</td>\n",
       "      <td>0</td>\n",
       "    </tr>\n",
       "    <tr>\n",
       "      <th>5106</th>\n",
       "      <td>0</td>\n",
       "      <td>81.0</td>\n",
       "      <td>0</td>\n",
       "      <td>0</td>\n",
       "      <td>125.20</td>\n",
       "      <td>0</td>\n",
       "      <td>0</td>\n",
       "    </tr>\n",
       "    <tr>\n",
       "      <th>5107</th>\n",
       "      <td>0</td>\n",
       "      <td>35.0</td>\n",
       "      <td>0</td>\n",
       "      <td>0</td>\n",
       "      <td>82.99</td>\n",
       "      <td>0</td>\n",
       "      <td>0</td>\n",
       "    </tr>\n",
       "    <tr>\n",
       "      <th>5108</th>\n",
       "      <td>1</td>\n",
       "      <td>51.0</td>\n",
       "      <td>0</td>\n",
       "      <td>0</td>\n",
       "      <td>166.29</td>\n",
       "      <td>1</td>\n",
       "      <td>0</td>\n",
       "    </tr>\n",
       "    <tr>\n",
       "      <th>5109</th>\n",
       "      <td>0</td>\n",
       "      <td>44.0</td>\n",
       "      <td>0</td>\n",
       "      <td>0</td>\n",
       "      <td>85.28</td>\n",
       "      <td>0</td>\n",
       "      <td>0</td>\n",
       "    </tr>\n",
       "  </tbody>\n",
       "</table>\n",
       "<p>5110 rows × 7 columns</p>\n",
       "</div>"
      ],
      "text/plain": [
       "      gender   age  hypertension  heart_disease  avg_glucose_level  \\\n",
       "0          1  67.0             0              1             228.69   \n",
       "1          0  61.0             0              0             202.21   \n",
       "2          1  80.0             0              1             105.92   \n",
       "3          0  49.0             0              0             171.23   \n",
       "4          0  79.0             1              0             174.12   \n",
       "...      ...   ...           ...            ...                ...   \n",
       "5105       0  80.0             1              0              83.75   \n",
       "5106       0  81.0             0              0             125.20   \n",
       "5107       0  35.0             0              0              82.99   \n",
       "5108       1  51.0             0              0             166.29   \n",
       "5109       0  44.0             0              0              85.28   \n",
       "\n",
       "      smoking_status  stroke  \n",
       "0                  1       1  \n",
       "1                  0       1  \n",
       "2                  0       1  \n",
       "3                  1       1  \n",
       "4                  0       1  \n",
       "...              ...     ...  \n",
       "5105               0       0  \n",
       "5106               0       0  \n",
       "5107               0       0  \n",
       "5108               1       0  \n",
       "5109               0       0  \n",
       "\n",
       "[5110 rows x 7 columns]"
      ]
     },
     "execution_count": 201,
     "metadata": {},
     "output_type": "execute_result"
    }
   ],
   "source": [
    "data"
   ]
  },
  {
   "cell_type": "markdown",
   "id": "interracial-representation",
   "metadata": {},
   "source": [
    "## 👇 checking the available number of classes"
   ]
  },
  {
   "cell_type": "code",
   "execution_count": 202,
   "id": "regular-holiday",
   "metadata": {},
   "outputs": [
    {
     "data": {
      "text/plain": [
       "<seaborn.axisgrid.PairGrid at 0x20f02a0ef70>"
      ]
     },
     "execution_count": 202,
     "metadata": {},
     "output_type": "execute_result"
    },
    {
     "data": {
      "image/png": "[encoded data removed]",
      "text/plain": [
       "<Figure size 1122.38x1080 with 42 Axes>"
      ]
     },
     "metadata": {
      "needs_background": "light"
     },
     "output_type": "display_data"
    }
   ],
   "source": [
    "seaborn.pairplot(data.iloc[:,:7], hue=\"stroke\",palette=\"bright\")"
   ]
  },
  {
   "cell_type": "code",
   "execution_count": 203,
   "id": "registered-gathering",
   "metadata": {},
   "outputs": [
    {
     "data": {
      "text/plain": [
       "<matplotlib.collections.PathCollection at 0x20f06d23130>"
      ]
     },
     "execution_count": 203,
     "metadata": {},
     "output_type": "execute_result"
    },
    {
     "data": {
      "image/png": "[encoded data removed]",
      "text/plain": [
       "<Figure size 1080x864 with 1 Axes>"
      ]
     },
     "metadata": {
      "needs_background": "light"
     },
     "output_type": "display_data"
    }
   ],
   "source": [
    "pyplot.scatter(x=[i for i in range(1,len(data)+1)],y=data.iloc[:,0])\n",
    "pyplot.scatter(x=[i for i in range(1,len(data)+1)],y=data.iloc[:,1])\n",
    "pyplot.scatter(x=[i for i in range(1,len(data)+1)],y=data.iloc[:,2])\n",
    "pyplot.scatter(x=[i for i in range(1,len(data)+1)],y=data.iloc[:,3])\n",
    "pyplot.scatter(x=[i for i in range(1,len(data)+1)],y=data.iloc[:,4])\n",
    "pyplot.scatter(x=[i for i in range(1,len(data)+1)],y=data.iloc[:,5])\n",
    "pyplot.scatter(x=[i for i in range(1,len(data)+1)],y=data.iloc[:,6])"
   ]
  },
  {
   "cell_type": "markdown",
   "id": "consolidated-puppy",
   "metadata": {},
   "source": [
    "# Data Preparation"
   ]
  },
  {
   "cell_type": "markdown",
   "id": "broadband-jefferson",
   "metadata": {},
   "source": [
    "### Suffling the data set 👇\n",
    "this is to get splitted data, that have all type of the classes in training and testing"
   ]
  },
  {
   "cell_type": "code",
   "execution_count": 205,
   "id": "documentary-rescue",
   "metadata": {
    "scrolled": true
   },
   "outputs": [],
   "source": [
    "shuffled_Data=data.sample(frac=1)"
   ]
  },
  {
   "cell_type": "markdown",
   "id": "complicated-biotechnology",
   "metadata": {},
   "source": [
    "## Splitting the dataset into training and testing 👇\n",
    "\n",
    "For Training 85% data is being used and for testing 15% data is used from the given data\n"
   ]
  },
  {
   "cell_type": "code",
   "execution_count": 206,
   "id": "interested-french",
   "metadata": {},
   "outputs": [],
   "source": [
    "training_value=int(len(shuffled_Data)*0.85)"
   ]
  },
  {
   "cell_type": "code",
   "execution_count": 207,
   "id": "fourth-prompt",
   "metadata": {},
   "outputs": [],
   "source": [
    "Training_Data = shuffled_Data[:training_value]\n",
    "Testing_Data = shuffled_Data[training_value:]"
   ]
  },
  {
   "cell_type": "code",
   "execution_count": 208,
   "id": "black-cincinnati",
   "metadata": {},
   "outputs": [
    {
     "data": {
      "text/plain": [
       "0    4133\n",
       "1     210\n",
       "Name: stroke, dtype: int64"
      ]
     },
     "execution_count": 208,
     "metadata": {},
     "output_type": "execute_result"
    }
   ],
   "source": [
    "Training_Data['stroke'].value_counts()"
   ]
  },
  {
   "cell_type": "code",
   "execution_count": 209,
   "id": "equal-blond",
   "metadata": {
    "scrolled": false
   },
   "outputs": [
    {
     "data": {
      "text/html": [
       "<div>\n",
       "<style scoped>\n",
       "    .dataframe tbody tr th:only-of-type {\n",
       "        vertical-align: middle;\n",
       "    }\n",
       "\n",
       "    .dataframe tbody tr th {\n",
       "        vertical-align: top;\n",
       "    }\n",
       "\n",
       "    .dataframe thead th {\n",
       "        text-align: right;\n",
       "    }\n",
       "</style>\n",
       "<table border=\"1\" class=\"dataframe\">\n",
       "  <thead>\n",
       "    <tr style=\"text-align: right;\">\n",
       "      <th></th>\n",
       "      <th>gender</th>\n",
       "      <th>age</th>\n",
       "      <th>hypertension</th>\n",
       "      <th>heart_disease</th>\n",
       "      <th>avg_glucose_level</th>\n",
       "      <th>smoking_status</th>\n",
       "      <th>stroke</th>\n",
       "    </tr>\n",
       "  </thead>\n",
       "  <tbody>\n",
       "    <tr>\n",
       "      <th>546</th>\n",
       "      <td>1</td>\n",
       "      <td>9.0</td>\n",
       "      <td>0</td>\n",
       "      <td>0</td>\n",
       "      <td>122.22</td>\n",
       "      <td>0</td>\n",
       "      <td>0</td>\n",
       "    </tr>\n",
       "    <tr>\n",
       "      <th>4933</th>\n",
       "      <td>0</td>\n",
       "      <td>81.0</td>\n",
       "      <td>0</td>\n",
       "      <td>0</td>\n",
       "      <td>80.44</td>\n",
       "      <td>0</td>\n",
       "      <td>0</td>\n",
       "    </tr>\n",
       "    <tr>\n",
       "      <th>2112</th>\n",
       "      <td>1</td>\n",
       "      <td>13.0</td>\n",
       "      <td>0</td>\n",
       "      <td>0</td>\n",
       "      <td>74.19</td>\n",
       "      <td>1</td>\n",
       "      <td>0</td>\n",
       "    </tr>\n",
       "    <tr>\n",
       "      <th>2740</th>\n",
       "      <td>1</td>\n",
       "      <td>15.0</td>\n",
       "      <td>0</td>\n",
       "      <td>0</td>\n",
       "      <td>79.59</td>\n",
       "      <td>0</td>\n",
       "      <td>0</td>\n",
       "    </tr>\n",
       "    <tr>\n",
       "      <th>5017</th>\n",
       "      <td>0</td>\n",
       "      <td>58.0</td>\n",
       "      <td>0</td>\n",
       "      <td>0</td>\n",
       "      <td>69.12</td>\n",
       "      <td>0</td>\n",
       "      <td>0</td>\n",
       "    </tr>\n",
       "    <tr>\n",
       "      <th>...</th>\n",
       "      <td>...</td>\n",
       "      <td>...</td>\n",
       "      <td>...</td>\n",
       "      <td>...</td>\n",
       "      <td>...</td>\n",
       "      <td>...</td>\n",
       "      <td>...</td>\n",
       "    </tr>\n",
       "    <tr>\n",
       "      <th>3289</th>\n",
       "      <td>0</td>\n",
       "      <td>44.0</td>\n",
       "      <td>0</td>\n",
       "      <td>0</td>\n",
       "      <td>86.15</td>\n",
       "      <td>0</td>\n",
       "      <td>0</td>\n",
       "    </tr>\n",
       "    <tr>\n",
       "      <th>2281</th>\n",
       "      <td>0</td>\n",
       "      <td>47.0</td>\n",
       "      <td>0</td>\n",
       "      <td>0</td>\n",
       "      <td>131.43</td>\n",
       "      <td>0</td>\n",
       "      <td>0</td>\n",
       "    </tr>\n",
       "    <tr>\n",
       "      <th>1004</th>\n",
       "      <td>1</td>\n",
       "      <td>39.0</td>\n",
       "      <td>0</td>\n",
       "      <td>0</td>\n",
       "      <td>72.49</td>\n",
       "      <td>1</td>\n",
       "      <td>0</td>\n",
       "    </tr>\n",
       "    <tr>\n",
       "      <th>3568</th>\n",
       "      <td>1</td>\n",
       "      <td>39.0</td>\n",
       "      <td>1</td>\n",
       "      <td>0</td>\n",
       "      <td>88.18</td>\n",
       "      <td>1</td>\n",
       "      <td>0</td>\n",
       "    </tr>\n",
       "    <tr>\n",
       "      <th>1346</th>\n",
       "      <td>1</td>\n",
       "      <td>49.0</td>\n",
       "      <td>0</td>\n",
       "      <td>0</td>\n",
       "      <td>199.96</td>\n",
       "      <td>0</td>\n",
       "      <td>0</td>\n",
       "    </tr>\n",
       "  </tbody>\n",
       "</table>\n",
       "<p>4343 rows × 7 columns</p>\n",
       "</div>"
      ],
      "text/plain": [
       "      gender   age  hypertension  heart_disease  avg_glucose_level  \\\n",
       "546        1   9.0             0              0             122.22   \n",
       "4933       0  81.0             0              0              80.44   \n",
       "2112       1  13.0             0              0              74.19   \n",
       "2740       1  15.0             0              0              79.59   \n",
       "5017       0  58.0             0              0              69.12   \n",
       "...      ...   ...           ...            ...                ...   \n",
       "3289       0  44.0             0              0              86.15   \n",
       "2281       0  47.0             0              0             131.43   \n",
       "1004       1  39.0             0              0              72.49   \n",
       "3568       1  39.0             1              0              88.18   \n",
       "1346       1  49.0             0              0             199.96   \n",
       "\n",
       "      smoking_status  stroke  \n",
       "546                0       0  \n",
       "4933               0       0  \n",
       "2112               1       0  \n",
       "2740               0       0  \n",
       "5017               0       0  \n",
       "...              ...     ...  \n",
       "3289               0       0  \n",
       "2281               0       0  \n",
       "1004               1       0  \n",
       "3568               1       0  \n",
       "1346               0       0  \n",
       "\n",
       "[4343 rows x 7 columns]"
      ]
     },
     "execution_count": 209,
     "metadata": {},
     "output_type": "execute_result"
    }
   ],
   "source": [
    "Training_Data"
   ]
  },
  {
   "cell_type": "markdown",
   "id": "established-athletics",
   "metadata": {},
   "source": [
    "## Dividing the training data features and labels 👇 \n",
    "this will be used for training of model"
   ]
  },
  {
   "cell_type": "code",
   "execution_count": 210,
   "id": "yellow-taxation",
   "metadata": {},
   "outputs": [],
   "source": [
    "training_Labels=Training_Data['stroke']\n",
    "training_Features=Training_Data.drop(['stroke'],axis=1)"
   ]
  },
  {
   "cell_type": "code",
   "execution_count": 211,
   "id": "genetic-hybrid",
   "metadata": {},
   "outputs": [
    {
     "name": "stdout",
     "output_type": "stream",
     "text": [
      "<class 'pandas.core.frame.DataFrame'>\n",
      "Int64Index: 4343 entries, 546 to 1346\n",
      "Data columns (total 6 columns):\n",
      " #   Column             Non-Null Count  Dtype  \n",
      "---  ------             --------------  -----  \n",
      " 0   gender             4343 non-null   int64  \n",
      " 1   age                4343 non-null   float64\n",
      " 2   hypertension       4343 non-null   int64  \n",
      " 3   heart_disease      4343 non-null   int64  \n",
      " 4   avg_glucose_level  4343 non-null   float64\n",
      " 5   smoking_status     4343 non-null   int64  \n",
      "dtypes: float64(2), int64(4)\n",
      "memory usage: 237.5 KB\n"
     ]
    }
   ],
   "source": [
    "training_Features.info()"
   ]
  },
  {
   "cell_type": "code",
   "execution_count": 212,
   "id": "broad-integral",
   "metadata": {},
   "outputs": [
    {
     "data": {
      "text/plain": [
       "0    4133\n",
       "1     210\n",
       "Name: stroke, dtype: int64"
      ]
     },
     "execution_count": 212,
     "metadata": {},
     "output_type": "execute_result"
    }
   ],
   "source": [
    "training_Labels.value_counts()"
   ]
  },
  {
   "cell_type": "markdown",
   "id": "moved-diagram",
   "metadata": {},
   "source": [
    "## dividing the testing data features and labels 👇 \n",
    "this will be used for testing the model"
   ]
  },
  {
   "cell_type": "code",
   "execution_count": 213,
   "id": "powerful-operation",
   "metadata": {},
   "outputs": [],
   "source": [
    "testing_Labels=Testing_Data['stroke']\n",
    "testing_Features=Testing_Data.drop(['stroke'],axis=1)"
   ]
  },
  {
   "cell_type": "code",
   "execution_count": 214,
   "id": "several-virus",
   "metadata": {},
   "outputs": [
    {
     "name": "stdout",
     "output_type": "stream",
     "text": [
      "<class 'pandas.core.frame.DataFrame'>\n",
      "Int64Index: 767 entries, 2081 to 2831\n",
      "Data columns (total 6 columns):\n",
      " #   Column             Non-Null Count  Dtype  \n",
      "---  ------             --------------  -----  \n",
      " 0   gender             767 non-null    int64  \n",
      " 1   age                767 non-null    float64\n",
      " 2   hypertension       767 non-null    int64  \n",
      " 3   heart_disease      767 non-null    int64  \n",
      " 4   avg_glucose_level  767 non-null    float64\n",
      " 5   smoking_status     767 non-null    int64  \n",
      "dtypes: float64(2), int64(4)\n",
      "memory usage: 41.9 KB\n"
     ]
    }
   ],
   "source": [
    "testing_Features.info()"
   ]
  },
  {
   "cell_type": "code",
   "execution_count": 215,
   "id": "critical-style",
   "metadata": {},
   "outputs": [
    {
     "data": {
      "text/plain": [
       "0    728\n",
       "1     39\n",
       "Name: stroke, dtype: int64"
      ]
     },
     "execution_count": 215,
     "metadata": {},
     "output_type": "execute_result"
    }
   ],
   "source": [
    "testing_Labels.value_counts()"
   ]
  },
  {
   "cell_type": "markdown",
   "id": "amino-kidney",
   "metadata": {},
   "source": [
    "# Bagging"
   ]
  },
  {
   "cell_type": "markdown",
   "id": "formed-prompt",
   "metadata": {},
   "source": [
    "# Creating the SVM instance and it is given to bagging classifier 👇\n",
    "so for bagging will apply SVM model multiple time and output will be given by combination of all"
   ]
  },
  {
   "cell_type": "code",
   "execution_count": 216,
   "id": "heavy-polish",
   "metadata": {},
   "outputs": [],
   "source": [
    "svmmodel=svm.LinearSVC()\n",
    "bagging_classifier = BaggingClassifier(base_estimator=svmmodel)"
   ]
  },
  {
   "cell_type": "markdown",
   "id": "orange-right",
   "metadata": {},
   "source": [
    "### fitting the model 👇"
   ]
  },
  {
   "cell_type": "code",
   "execution_count": 217,
   "id": "agreed-typing",
   "metadata": {},
   "outputs": [
    {
     "name": "stderr",
     "output_type": "stream",
     "text": [
      "C:\\Users\\Pankaj singh\\AppData\\Roaming\\Python\\Python39\\site-packages\\sklearn\\svm\\_base.py:985: ConvergenceWarning: Liblinear failed to converge, increase the number of iterations.\n",
      "  warnings.warn(\"Liblinear failed to converge, increase \"\n",
      "C:\\Users\\Pankaj singh\\AppData\\Roaming\\Python\\Python39\\site-packages\\sklearn\\svm\\_base.py:985: ConvergenceWarning: Liblinear failed to converge, increase the number of iterations.\n",
      "  warnings.warn(\"Liblinear failed to converge, increase \"\n",
      "C:\\Users\\Pankaj singh\\AppData\\Roaming\\Python\\Python39\\site-packages\\sklearn\\svm\\_base.py:985: ConvergenceWarning: Liblinear failed to converge, increase the number of iterations.\n",
      "  warnings.warn(\"Liblinear failed to converge, increase \"\n",
      "C:\\Users\\Pankaj singh\\AppData\\Roaming\\Python\\Python39\\site-packages\\sklearn\\svm\\_base.py:985: ConvergenceWarning: Liblinear failed to converge, increase the number of iterations.\n",
      "  warnings.warn(\"Liblinear failed to converge, increase \"\n",
      "C:\\Users\\Pankaj singh\\AppData\\Roaming\\Python\\Python39\\site-packages\\sklearn\\svm\\_base.py:985: ConvergenceWarning: Liblinear failed to converge, increase the number of iterations.\n",
      "  warnings.warn(\"Liblinear failed to converge, increase \"\n",
      "C:\\Users\\Pankaj singh\\AppData\\Roaming\\Python\\Python39\\site-packages\\sklearn\\svm\\_base.py:985: ConvergenceWarning: Liblinear failed to converge, increase the number of iterations.\n",
      "  warnings.warn(\"Liblinear failed to converge, increase \"\n",
      "C:\\Users\\Pankaj singh\\AppData\\Roaming\\Python\\Python39\\site-packages\\sklearn\\svm\\_base.py:985: ConvergenceWarning: Liblinear failed to converge, increase the number of iterations.\n",
      "  warnings.warn(\"Liblinear failed to converge, increase \"\n",
      "C:\\Users\\Pankaj singh\\AppData\\Roaming\\Python\\Python39\\site-packages\\sklearn\\svm\\_base.py:985: ConvergenceWarning: Liblinear failed to converge, increase the number of iterations.\n",
      "  warnings.warn(\"Liblinear failed to converge, increase \"\n",
      "C:\\Users\\Pankaj singh\\AppData\\Roaming\\Python\\Python39\\site-packages\\sklearn\\svm\\_base.py:985: ConvergenceWarning: Liblinear failed to converge, increase the number of iterations.\n",
      "  warnings.warn(\"Liblinear failed to converge, increase \"\n",
      "C:\\Users\\Pankaj singh\\AppData\\Roaming\\Python\\Python39\\site-packages\\sklearn\\svm\\_base.py:985: ConvergenceWarning: Liblinear failed to converge, increase the number of iterations.\n",
      "  warnings.warn(\"Liblinear failed to converge, increase \"\n"
     ]
    },
    {
     "data": {
      "text/plain": [
       "BaggingClassifier(base_estimator=LinearSVC())"
      ]
     },
     "execution_count": 217,
     "metadata": {},
     "output_type": "execute_result"
    }
   ],
   "source": [
    "bagging_classifier.fit(training_Features,training_Labels)"
   ]
  },
  {
   "cell_type": "markdown",
   "id": "likely-actor",
   "metadata": {},
   "source": [
    "## ________________________________________________________________________"
   ]
  },
  {
   "cell_type": "markdown",
   "id": "necessary-southeast",
   "metadata": {},
   "source": [
    "## Optional Part 👇\n",
    "### checking model on training data to check training accuracy (not needed)"
   ]
  },
  {
   "cell_type": "code",
   "execution_count": 218,
   "id": "posted-collector",
   "metadata": {},
   "outputs": [
    {
     "name": "stdout",
     "output_type": "stream",
     "text": [
      "              precision    recall  f1-score   support\n",
      "\n",
      "           0       0.95      1.00      0.98      4133\n",
      "           1       0.00      0.00      0.00       210\n",
      "\n",
      "    accuracy                           0.95      4343\n",
      "   macro avg       0.48      0.50      0.49      4343\n",
      "weighted avg       0.91      0.95      0.93      4343\n",
      "\n"
     ]
    },
    {
     "name": "stderr",
     "output_type": "stream",
     "text": [
      "C:\\Users\\Pankaj singh\\AppData\\Roaming\\Python\\Python39\\site-packages\\sklearn\\metrics\\_classification.py:1248: UndefinedMetricWarning: Precision and F-score are ill-defined and being set to 0.0 in labels with no predicted samples. Use `zero_division` parameter to control this behavior.\n",
      "  _warn_prf(average, modifier, msg_start, len(result))\n",
      "C:\\Users\\Pankaj singh\\AppData\\Roaming\\Python\\Python39\\site-packages\\sklearn\\metrics\\_classification.py:1248: UndefinedMetricWarning: Precision and F-score are ill-defined and being set to 0.0 in labels with no predicted samples. Use `zero_division` parameter to control this behavior.\n",
      "  _warn_prf(average, modifier, msg_start, len(result))\n",
      "C:\\Users\\Pankaj singh\\AppData\\Roaming\\Python\\Python39\\site-packages\\sklearn\\metrics\\_classification.py:1248: UndefinedMetricWarning: Precision and F-score are ill-defined and being set to 0.0 in labels with no predicted samples. Use `zero_division` parameter to control this behavior.\n",
      "  _warn_prf(average, modifier, msg_start, len(result))\n"
     ]
    },
    {
     "data": {
      "image/png": "[encoded data removed]",
      "text/plain": [
       "<Figure size 1080x864 with 2 Axes>"
      ]
     },
     "metadata": {
      "needs_background": "light"
     },
     "output_type": "display_data"
    }
   ],
   "source": [
    "training_predicted_values=bagging_classifier.predict(training_Features)\n",
    "training_classification_data=confusion_matrix(training_Labels,training_predicted_values)\n",
    "seaborn.heatmap(training_classification_data,annot=True)\n",
    "print(classification_report(training_Labels,training_predicted_values))"
   ]
  },
  {
   "cell_type": "markdown",
   "id": "south-announcement",
   "metadata": {},
   "source": [
    "Training accuracy is 89%"
   ]
  },
  {
   "cell_type": "markdown",
   "id": "baking-stomach",
   "metadata": {},
   "source": [
    "# ________________________________________"
   ]
  },
  {
   "cell_type": "markdown",
   "id": "framed-victim",
   "metadata": {},
   "source": [
    "# Now Testing the model 👇"
   ]
  },
  {
   "cell_type": "code",
   "execution_count": 255,
   "id": "pressed-austin",
   "metadata": {},
   "outputs": [
    {
     "name": "stdout",
     "output_type": "stream",
     "text": [
      "              precision    recall  f1-score   support\n",
      "\n",
      "           0       0.95      1.00      0.97       728\n",
      "           1       0.00      0.00      0.00        39\n",
      "\n",
      "    accuracy                           0.95       767\n",
      "   macro avg       0.47      0.50      0.49       767\n",
      "weighted avg       0.90      0.95      0.92       767\n",
      "\n"
     ]
    },
    {
     "name": "stderr",
     "output_type": "stream",
     "text": [
      "C:\\Users\\Pankaj singh\\AppData\\Roaming\\Python\\Python39\\site-packages\\sklearn\\metrics\\_classification.py:1248: UndefinedMetricWarning: Precision and F-score are ill-defined and being set to 0.0 in labels with no predicted samples. Use `zero_division` parameter to control this behavior.\n",
      "  _warn_prf(average, modifier, msg_start, len(result))\n",
      "C:\\Users\\Pankaj singh\\AppData\\Roaming\\Python\\Python39\\site-packages\\sklearn\\metrics\\_classification.py:1248: UndefinedMetricWarning: Precision and F-score are ill-defined and being set to 0.0 in labels with no predicted samples. Use `zero_division` parameter to control this behavior.\n",
      "  _warn_prf(average, modifier, msg_start, len(result))\n",
      "C:\\Users\\Pankaj singh\\AppData\\Roaming\\Python\\Python39\\site-packages\\sklearn\\metrics\\_classification.py:1248: UndefinedMetricWarning: Precision and F-score are ill-defined and being set to 0.0 in labels with no predicted samples. Use `zero_division` parameter to control this behavior.\n",
      "  _warn_prf(average, modifier, msg_start, len(result))\n"
     ]
    },
    {
     "data": {
      "image/png": "[encoded data removed]",
      "text/plain": [
       "<Figure size 576x360 with 2 Axes>"
      ]
     },
     "metadata": {
      "needs_background": "light"
     },
     "output_type": "display_data"
    }
   ],
   "source": [
    "predicted_values=bagging_classifier.predict(testing_Features)\n",
    "classification_data=confusion_matrix(predicted_values,testing_Labels)\n",
    "seaborn.heatmap(classification_data,annot=True)\n",
    "print(classification_report(testing_Labels,predicted_values))"
   ]
  },
  {
   "cell_type": "markdown",
   "id": "expensive-montana",
   "metadata": {},
   "source": [
    "### Following will show that what is actual value and what is predicted by model 👇"
   ]
  },
  {
   "cell_type": "code",
   "execution_count": 220,
   "id": "previous-ivory",
   "metadata": {
    "scrolled": true
   },
   "outputs": [
    {
     "name": "stdout",
     "output_type": "stream",
     "text": [
      "Actual Values --> Predicted values\n",
      "      0  -->  0\n",
      "      0  -->  0\n",
      "      0  -->  0\n",
      "      0  -->  0\n",
      "      0  -->  0\n",
      "      0  -->  0\n",
      "      0  -->  0\n",
      "      0  -->  0\n",
      "      0  -->  0\n",
      "      0  -->  0\n",
      "      0  -->  0\n",
      "      0  -->  0\n",
      "      0  -->  0\n",
      "      0  -->  0\n",
      "      0  -->  0\n",
      "      0  -->  0\n",
      "      0  -->  0\n",
      "      1  -->  0\n",
      "      0  -->  0\n",
      "      0  -->  0\n",
      "      0  -->  0\n",
      "      0  -->  0\n",
      "      0  -->  0\n",
      "      0  -->  0\n",
      "      0  -->  0\n",
      "      0  -->  0\n",
      "      0  -->  0\n",
      "      0  -->  0\n",
      "      0  -->  0\n",
      "      0  -->  0\n",
      "      0  -->  0\n",
      "      0  -->  0\n",
      "      0  -->  0\n",
      "      0  -->  0\n",
      "      0  -->  0\n",
      "      0  -->  0\n",
      "      0  -->  0\n",
      "      0  -->  0\n",
      "      1  -->  0\n",
      "      0  -->  0\n",
      "      0  -->  0\n",
      "      0  -->  0\n",
      "      0  -->  0\n",
      "      0  -->  0\n",
      "      0  -->  0\n",
      "      0  -->  0\n",
      "      0  -->  0\n",
      "      0  -->  0\n",
      "      0  -->  0\n",
      "      0  -->  0\n",
      "      0  -->  0\n",
      "      0  -->  0\n",
      "      0  -->  0\n",
      "      0  -->  0\n",
      "      0  -->  0\n",
      "      0  -->  0\n",
      "      0  -->  0\n",
      "      0  -->  0\n",
      "      0  -->  0\n",
      "      0  -->  0\n",
      "      0  -->  0\n",
      "      0  -->  0\n",
      "      0  -->  0\n",
      "      0  -->  0\n",
      "      1  -->  0\n",
      "      0  -->  0\n",
      "      1  -->  0\n",
      "      0  -->  0\n",
      "      0  -->  0\n",
      "      0  -->  0\n",
      "      0  -->  0\n",
      "      0  -->  0\n",
      "      0  -->  0\n",
      "      0  -->  0\n",
      "      1  -->  0\n",
      "      0  -->  0\n",
      "      0  -->  0\n",
      "      0  -->  0\n",
      "      0  -->  0\n",
      "      0  -->  0\n",
      "      0  -->  0\n",
      "      0  -->  0\n",
      "      0  -->  0\n",
      "      0  -->  0\n",
      "      0  -->  0\n",
      "      0  -->  0\n",
      "      0  -->  0\n",
      "      0  -->  0\n",
      "      0  -->  0\n",
      "      0  -->  0\n",
      "      0  -->  0\n",
      "      0  -->  0\n",
      "      0  -->  0\n",
      "      0  -->  0\n",
      "      0  -->  0\n",
      "      0  -->  0\n",
      "      0  -->  0\n",
      "      0  -->  0\n",
      "      0  -->  0\n",
      "      1  -->  0\n",
      "      0  -->  0\n",
      "      0  -->  0\n",
      "      0  -->  0\n",
      "      0  -->  0\n",
      "      0  -->  0\n",
      "      0  -->  0\n",
      "      0  -->  0\n",
      "      0  -->  0\n",
      "      0  -->  0\n",
      "      0  -->  0\n",
      "      0  -->  0\n",
      "      0  -->  0\n",
      "      0  -->  0\n",
      "      0  -->  0\n",
      "      0  -->  0\n",
      "      0  -->  0\n",
      "      0  -->  0\n",
      "      0  -->  0\n",
      "      0  -->  0\n",
      "      0  -->  0\n",
      "      0  -->  0\n",
      "      0  -->  0\n",
      "      0  -->  0\n",
      "      1  -->  0\n",
      "      0  -->  0\n",
      "      0  -->  0\n",
      "      0  -->  0\n",
      "      0  -->  0\n",
      "      0  -->  0\n",
      "      0  -->  0\n",
      "      0  -->  0\n",
      "      0  -->  0\n",
      "      0  -->  0\n",
      "      1  -->  0\n",
      "      0  -->  0\n",
      "      0  -->  0\n",
      "      0  -->  0\n",
      "      0  -->  0\n",
      "      0  -->  0\n",
      "      0  -->  0\n",
      "      0  -->  0\n",
      "      0  -->  0\n",
      "      0  -->  0\n",
      "      0  -->  0\n",
      "      0  -->  0\n",
      "      0  -->  0\n",
      "      0  -->  0\n",
      "      0  -->  0\n",
      "      0  -->  0\n",
      "      0  -->  0\n",
      "      0  -->  0\n",
      "      1  -->  0\n",
      "      0  -->  0\n",
      "      0  -->  0\n",
      "      0  -->  0\n",
      "      0  -->  0\n",
      "      0  -->  0\n",
      "      0  -->  0\n",
      "      0  -->  0\n",
      "      0  -->  0\n",
      "      0  -->  0\n",
      "      0  -->  0\n",
      "      0  -->  0\n",
      "      0  -->  0\n",
      "      0  -->  0\n",
      "      0  -->  0\n",
      "      1  -->  0\n",
      "      0  -->  0\n",
      "      0  -->  0\n",
      "      0  -->  0\n",
      "      0  -->  0\n",
      "      0  -->  0\n",
      "      0  -->  0\n",
      "      0  -->  0\n",
      "      0  -->  0\n",
      "      0  -->  0\n",
      "      0  -->  0\n",
      "      1  -->  0\n",
      "      0  -->  0\n",
      "      0  -->  0\n",
      "      0  -->  0\n",
      "      0  -->  0\n",
      "      0  -->  0\n",
      "      0  -->  0\n",
      "      0  -->  0\n",
      "      0  -->  0\n",
      "      0  -->  0\n",
      "      0  -->  0\n",
      "      0  -->  0\n",
      "      0  -->  0\n",
      "      0  -->  0\n",
      "      0  -->  0\n",
      "      0  -->  0\n",
      "      0  -->  0\n",
      "      0  -->  0\n",
      "      0  -->  0\n",
      "      1  -->  0\n",
      "      0  -->  0\n",
      "      0  -->  0\n",
      "      0  -->  0\n",
      "      0  -->  0\n",
      "      0  -->  0\n",
      "      0  -->  0\n",
      "      0  -->  0\n",
      "      1  -->  0\n",
      "      0  -->  0\n",
      "      0  -->  0\n",
      "      0  -->  0\n",
      "      0  -->  0\n",
      "      0  -->  0\n",
      "      0  -->  0\n",
      "      0  -->  0\n",
      "      0  -->  0\n",
      "      0  -->  0\n",
      "      0  -->  0\n",
      "      0  -->  0\n",
      "      1  -->  0\n",
      "      0  -->  0\n",
      "      0  -->  0\n",
      "      0  -->  0\n",
      "      0  -->  0\n",
      "      0  -->  0\n",
      "      0  -->  0\n",
      "      1  -->  0\n",
      "      0  -->  0\n",
      "      1  -->  0\n",
      "      0  -->  0\n",
      "      0  -->  0\n",
      "      0  -->  0\n",
      "      0  -->  0\n",
      "      0  -->  0\n",
      "      0  -->  0\n",
      "      0  -->  0\n",
      "      0  -->  0\n",
      "      0  -->  0\n",
      "      0  -->  0\n",
      "      0  -->  0\n",
      "      0  -->  0\n",
      "      0  -->  0\n",
      "      0  -->  0\n",
      "      0  -->  0\n",
      "      0  -->  0\n",
      "      0  -->  0\n",
      "      0  -->  0\n",
      "      0  -->  0\n",
      "      0  -->  0\n",
      "      0  -->  0\n",
      "      1  -->  0\n",
      "      0  -->  0\n",
      "      0  -->  0\n",
      "      0  -->  0\n",
      "      0  -->  0\n",
      "      0  -->  0\n",
      "      0  -->  0\n",
      "      0  -->  0\n",
      "      1  -->  0\n",
      "      0  -->  0\n",
      "      0  -->  0\n",
      "      0  -->  0\n",
      "      0  -->  0\n",
      "      0  -->  0\n",
      "      0  -->  0\n",
      "      0  -->  0\n",
      "      0  -->  0\n",
      "      0  -->  0\n",
      "      0  -->  0\n",
      "      0  -->  0\n",
      "      0  -->  0\n",
      "      0  -->  0\n",
      "      0  -->  0\n",
      "      0  -->  0\n",
      "      0  -->  0\n",
      "      0  -->  0\n",
      "      0  -->  0\n",
      "      0  -->  0\n",
      "      0  -->  0\n",
      "      0  -->  0\n",
      "      0  -->  0\n",
      "      0  -->  0\n",
      "      0  -->  0\n",
      "      0  -->  0\n",
      "      0  -->  0\n",
      "      0  -->  0\n",
      "      0  -->  0\n",
      "      0  -->  0\n",
      "      0  -->  0\n",
      "      0  -->  0\n",
      "      0  -->  0\n",
      "      0  -->  0\n",
      "      0  -->  0\n",
      "      0  -->  0\n",
      "      0  -->  0\n",
      "      0  -->  0\n",
      "      0  -->  0\n",
      "      0  -->  0\n",
      "      0  -->  0\n",
      "      0  -->  0\n",
      "      0  -->  0\n",
      "      0  -->  0\n",
      "      0  -->  0\n",
      "      0  -->  0\n",
      "      0  -->  0\n",
      "      0  -->  0\n",
      "      0  -->  0\n",
      "      0  -->  0\n",
      "      0  -->  0\n",
      "      0  -->  0\n",
      "      0  -->  0\n",
      "      0  -->  0\n",
      "      0  -->  0\n",
      "      0  -->  0\n",
      "      0  -->  0\n",
      "      0  -->  0\n",
      "      0  -->  0\n",
      "      0  -->  0\n",
      "      0  -->  0\n",
      "      0  -->  0\n",
      "      0  -->  0\n",
      "      0  -->  0\n",
      "      0  -->  0\n",
      "      0  -->  0\n",
      "      0  -->  0\n",
      "      0  -->  0\n",
      "      0  -->  0\n",
      "      0  -->  0\n",
      "      0  -->  0\n",
      "      0  -->  0\n",
      "      0  -->  0\n",
      "      0  -->  0\n",
      "      0  -->  0\n",
      "      0  -->  0\n",
      "      0  -->  0\n",
      "      0  -->  0\n",
      "      0  -->  0\n",
      "      0  -->  0\n",
      "      0  -->  0\n",
      "      0  -->  0\n",
      "      0  -->  0\n",
      "      0  -->  0\n",
      "      0  -->  0\n",
      "      0  -->  0\n",
      "      0  -->  0\n",
      "      0  -->  0\n",
      "      0  -->  0\n",
      "      0  -->  0\n",
      "      0  -->  0\n",
      "      0  -->  0\n",
      "      0  -->  0\n",
      "      0  -->  0\n",
      "      0  -->  0\n",
      "      0  -->  0\n",
      "      0  -->  0\n",
      "      0  -->  0\n",
      "      0  -->  0\n",
      "      0  -->  0\n",
      "      0  -->  0\n",
      "      0  -->  0\n",
      "      0  -->  0\n",
      "      0  -->  0\n",
      "      0  -->  0\n",
      "      0  -->  0\n",
      "      0  -->  0\n",
      "      0  -->  0\n",
      "      0  -->  0\n",
      "      0  -->  0\n",
      "      0  -->  0\n",
      "      0  -->  0\n",
      "      0  -->  0\n",
      "      1  -->  0\n",
      "      0  -->  0\n",
      "      0  -->  0\n",
      "      0  -->  0\n",
      "      0  -->  0\n",
      "      0  -->  0\n",
      "      0  -->  0\n",
      "      0  -->  0\n",
      "      0  -->  0\n",
      "      0  -->  0\n",
      "      0  -->  0\n",
      "      0  -->  0\n",
      "      0  -->  0\n",
      "      0  -->  0\n",
      "      0  -->  0\n",
      "      0  -->  0\n",
      "      0  -->  0\n",
      "      0  -->  0\n",
      "      0  -->  0\n",
      "      0  -->  0\n",
      "      0  -->  0\n",
      "      0  -->  0\n",
      "      0  -->  0\n",
      "      0  -->  0\n",
      "      0  -->  0\n",
      "      0  -->  0\n",
      "      0  -->  0\n",
      "      0  -->  0\n",
      "      0  -->  0\n",
      "      0  -->  0\n",
      "      0  -->  0\n",
      "      0  -->  0\n",
      "      0  -->  0\n",
      "      0  -->  0\n",
      "      0  -->  0\n",
      "      0  -->  0\n",
      "      0  -->  0\n",
      "      0  -->  0\n",
      "      0  -->  0\n",
      "      0  -->  0\n",
      "      0  -->  0\n",
      "      0  -->  0\n",
      "      0  -->  0\n",
      "      0  -->  0\n",
      "      0  -->  0\n",
      "      0  -->  0\n",
      "      0  -->  0\n",
      "      0  -->  0\n",
      "      0  -->  0\n",
      "      0  -->  0\n",
      "      0  -->  0\n",
      "      0  -->  0\n",
      "      0  -->  0\n",
      "      0  -->  0\n",
      "      0  -->  0\n",
      "      1  -->  0\n",
      "      0  -->  0\n",
      "      0  -->  0\n",
      "      0  -->  0\n",
      "      0  -->  0\n",
      "      0  -->  0\n",
      "      0  -->  0\n",
      "      0  -->  0\n",
      "      0  -->  0\n",
      "      0  -->  0\n",
      "      0  -->  0\n",
      "      0  -->  0\n",
      "      0  -->  0\n",
      "      0  -->  0\n",
      "      0  -->  0\n",
      "      0  -->  0\n",
      "      0  -->  0\n",
      "      0  -->  0\n",
      "      0  -->  0\n",
      "      0  -->  0\n",
      "      0  -->  0\n",
      "      0  -->  0\n",
      "      0  -->  0\n",
      "      0  -->  0\n",
      "      0  -->  0\n",
      "      0  -->  0\n",
      "      0  -->  0\n",
      "      0  -->  0\n",
      "      0  -->  0\n",
      "      0  -->  0\n",
      "      0  -->  0\n",
      "      0  -->  0\n",
      "      0  -->  0\n",
      "      0  -->  0\n",
      "      1  -->  0\n",
      "      0  -->  0\n",
      "      1  -->  0\n",
      "      0  -->  0\n",
      "      0  -->  0\n",
      "      0  -->  0\n",
      "      0  -->  0\n",
      "      0  -->  0\n",
      "      0  -->  0\n",
      "      0  -->  0\n",
      "      0  -->  0\n",
      "      0  -->  0\n",
      "      0  -->  0\n",
      "      0  -->  0\n",
      "      0  -->  0\n",
      "      0  -->  0\n",
      "      0  -->  0\n",
      "      0  -->  0\n",
      "      0  -->  0\n",
      "      0  -->  0\n",
      "      0  -->  0\n",
      "      0  -->  0\n",
      "      0  -->  0\n",
      "      0  -->  0\n",
      "      0  -->  0\n",
      "      1  -->  0\n",
      "      0  -->  0\n",
      "      0  -->  0\n",
      "      1  -->  0\n",
      "      0  -->  0\n",
      "      0  -->  0\n",
      "      0  -->  0\n",
      "      0  -->  0\n",
      "      0  -->  0\n",
      "      0  -->  0\n",
      "      0  -->  0\n",
      "      0  -->  0\n",
      "      0  -->  0\n",
      "      0  -->  0\n",
      "      0  -->  0\n",
      "      0  -->  0\n",
      "      0  -->  0\n",
      "      0  -->  0\n",
      "      0  -->  0\n",
      "      0  -->  0\n",
      "      0  -->  0\n",
      "      0  -->  0\n",
      "      0  -->  0\n",
      "      0  -->  0\n",
      "      0  -->  0\n",
      "      0  -->  0\n",
      "      0  -->  0\n",
      "      0  -->  0\n",
      "      0  -->  0\n",
      "      0  -->  0\n",
      "      0  -->  0\n",
      "      0  -->  0\n",
      "      0  -->  0\n",
      "      0  -->  0\n",
      "      0  -->  0\n",
      "      0  -->  0\n",
      "      0  -->  0\n",
      "      0  -->  0\n",
      "      0  -->  0\n",
      "      0  -->  0\n",
      "      1  -->  0\n",
      "      0  -->  0\n",
      "      0  -->  0\n",
      "      0  -->  0\n",
      "      1  -->  0\n",
      "      0  -->  0\n",
      "      0  -->  0\n",
      "      0  -->  0\n",
      "      0  -->  0\n",
      "      0  -->  0\n",
      "      0  -->  0\n",
      "      0  -->  0\n",
      "      0  -->  0\n",
      "      0  -->  0\n",
      "      0  -->  0\n",
      "      1  -->  0\n",
      "      0  -->  0\n",
      "      0  -->  0\n",
      "      0  -->  0\n",
      "      0  -->  0\n",
      "      1  -->  0\n",
      "      0  -->  0\n",
      "      0  -->  0\n",
      "      0  -->  0\n",
      "      0  -->  0\n",
      "      1  -->  0\n",
      "      0  -->  0\n",
      "      0  -->  0\n",
      "      0  -->  0\n",
      "      0  -->  0\n",
      "      0  -->  0\n",
      "      0  -->  0\n",
      "      1  -->  0\n",
      "      0  -->  0\n",
      "      0  -->  0\n",
      "      0  -->  0\n",
      "      0  -->  0\n",
      "      0  -->  0\n",
      "      0  -->  0\n",
      "      0  -->  0\n",
      "      0  -->  0\n",
      "      0  -->  0\n",
      "      0  -->  0\n",
      "      0  -->  0\n",
      "      0  -->  0\n",
      "      0  -->  0\n",
      "      0  -->  0\n",
      "      0  -->  0\n",
      "      0  -->  0\n",
      "      0  -->  0\n",
      "      0  -->  0\n",
      "      0  -->  0\n",
      "      0  -->  0\n",
      "      0  -->  0\n",
      "      0  -->  0\n",
      "      0  -->  0\n",
      "      0  -->  0\n",
      "      0  -->  0\n",
      "      0  -->  0\n",
      "      0  -->  0\n",
      "      0  -->  0\n",
      "      0  -->  0\n",
      "      0  -->  0\n",
      "      0  -->  0\n",
      "      0  -->  0\n",
      "      0  -->  0\n",
      "      0  -->  0\n",
      "      0  -->  0\n",
      "      0  -->  0\n",
      "      0  -->  0\n",
      "      0  -->  0\n",
      "      0  -->  0\n",
      "      1  -->  0\n",
      "      0  -->  0\n",
      "      0  -->  0\n",
      "      0  -->  0\n",
      "      0  -->  0\n",
      "      0  -->  0\n",
      "      0  -->  0\n",
      "      0  -->  0\n",
      "      0  -->  0\n",
      "      0  -->  0\n",
      "      0  -->  0\n",
      "      0  -->  0\n",
      "      0  -->  0\n",
      "      0  -->  0\n",
      "      0  -->  0\n",
      "      0  -->  0\n",
      "      0  -->  0\n",
      "      0  -->  0\n",
      "      0  -->  0\n",
      "      0  -->  0\n",
      "      0  -->  0\n",
      "      0  -->  0\n",
      "      0  -->  0\n",
      "      0  -->  0\n",
      "      0  -->  0\n",
      "      0  -->  0\n",
      "      0  -->  0\n",
      "      0  -->  0\n",
      "      0  -->  0\n",
      "      0  -->  0\n",
      "      0  -->  0\n",
      "      0  -->  0\n",
      "      0  -->  0\n",
      "      0  -->  0\n",
      "      0  -->  0\n",
      "      0  -->  0\n",
      "      0  -->  0\n",
      "      0  -->  0\n",
      "      0  -->  0\n",
      "      0  -->  0\n",
      "      0  -->  0\n",
      "      0  -->  0\n",
      "      0  -->  0\n",
      "      0  -->  0\n",
      "      0  -->  0\n",
      "      0  -->  0\n",
      "      1  -->  0\n",
      "      0  -->  0\n",
      "      0  -->  0\n",
      "      0  -->  0\n",
      "      0  -->  0\n",
      "      0  -->  0\n",
      "      0  -->  0\n",
      "      1  -->  0\n",
      "      1  -->  0\n"
     ]
    },
    {
     "name": "stdout",
     "output_type": "stream",
     "text": [
      "      0  -->  0\n",
      "      0  -->  0\n",
      "      0  -->  0\n",
      "      0  -->  0\n",
      "      0  -->  0\n",
      "      0  -->  0\n",
      "      0  -->  0\n",
      "      0  -->  0\n",
      "      0  -->  0\n",
      "      0  -->  0\n",
      "      0  -->  0\n",
      "      0  -->  0\n",
      "      0  -->  0\n",
      "      0  -->  0\n",
      "      0  -->  0\n",
      "      1  -->  0\n",
      "      0  -->  0\n",
      "      0  -->  0\n",
      "      0  -->  0\n",
      "      0  -->  0\n",
      "      0  -->  0\n",
      "      0  -->  0\n",
      "      0  -->  0\n",
      "      0  -->  0\n",
      "      0  -->  0\n",
      "      0  -->  0\n",
      "      0  -->  0\n",
      "      1  -->  0\n",
      "      0  -->  0\n",
      "      0  -->  0\n",
      "      0  -->  0\n",
      "      0  -->  0\n",
      "      0  -->  0\n",
      "      0  -->  0\n",
      "      0  -->  0\n",
      "      0  -->  0\n",
      "      0  -->  0\n",
      "      0  -->  0\n",
      "      0  -->  0\n",
      "      0  -->  0\n",
      "      0  -->  0\n",
      "      1  -->  0\n",
      "      0  -->  0\n",
      "      0  -->  0\n",
      "      0  -->  0\n",
      "      0  -->  0\n",
      "      0  -->  0\n",
      "      0  -->  0\n",
      "      0  -->  0\n",
      "      0  -->  0\n",
      "      1  -->  0\n",
      "      0  -->  0\n",
      "      0  -->  0\n",
      "      0  -->  0\n",
      "      0  -->  0\n",
      "      1  -->  0\n",
      "      0  -->  0\n",
      "      0  -->  0\n",
      "      0  -->  0\n",
      "      0  -->  0\n",
      "      0  -->  0\n",
      "      0  -->  0\n",
      "      0  -->  0\n",
      "      0  -->  0\n",
      "      0  -->  0\n",
      "      0  -->  0\n",
      "      0  -->  0\n",
      "      0  -->  0\n",
      "      0  -->  0\n",
      "      0  -->  0\n",
      "      0  -->  0\n",
      "      0  -->  0\n",
      "      0  -->  0\n",
      "      0  -->  0\n",
      "      0  -->  0\n",
      "      0  -->  0\n",
      "      0  -->  0\n",
      "      0  -->  0\n",
      "      0  -->  0\n",
      "      0  -->  0\n",
      "      0  -->  0\n",
      "      0  -->  0\n",
      "      0  -->  0\n",
      "      0  -->  0\n",
      "      0  -->  0\n",
      "      0  -->  0\n",
      "      0  -->  0\n",
      "      0  -->  0\n",
      "      0  -->  0\n",
      "      0  -->  0\n",
      "      0  -->  0\n",
      "      0  -->  0\n",
      "      0  -->  0\n",
      "      0  -->  0\n",
      "      0  -->  0\n",
      "      0  -->  0\n",
      "      0  -->  0\n",
      "      0  -->  0\n",
      "      0  -->  0\n",
      "      0  -->  0\n",
      "      0  -->  0\n",
      "      0  -->  0\n",
      "      0  -->  0\n",
      "      0  -->  0\n",
      "      0  -->  0\n",
      "      0  -->  0\n",
      "      0  -->  0\n",
      "      0  -->  0\n",
      "      0  -->  0\n",
      "      0  -->  0\n",
      "      0  -->  0\n",
      "      0  -->  0\n",
      "      0  -->  0\n",
      "      0  -->  0\n",
      "      0  -->  0\n",
      "      0  -->  0\n",
      "      0  -->  0\n",
      "      0  -->  0\n"
     ]
    }
   ],
   "source": [
    "predicted_values=list(predicted_values)\n",
    "testing_Labels=list(testing_Labels)\n",
    "print(\"Actual Values --> Predicted values\")\n",
    "for i in range(len(predicted_values)):\n",
    "    print(\"     \",testing_Labels[i],\" --> \",predicted_values[i])"
   ]
  },
  {
   "cell_type": "markdown",
   "id": "economic-consensus",
   "metadata": {},
   "source": [
    "# Boosting"
   ]
  },
  {
   "cell_type": "code",
   "execution_count": 221,
   "id": "central-developer",
   "metadata": {},
   "outputs": [],
   "source": [
    "XGBoost_classifier = xgboost.XGBClassifier()"
   ]
  },
  {
   "cell_type": "code",
   "execution_count": 222,
   "id": "received-investor",
   "metadata": {},
   "outputs": [],
   "source": [
    "from sklearn.preprocessing import LabelEncoder\n",
    "le = LabelEncoder()\n",
    "training_Labels = le.fit_transform(training_Labels)\n",
    "testing_Labels=le.transform(testing_Labels)"
   ]
  },
  {
   "cell_type": "code",
   "execution_count": 223,
   "id": "fluid-attitude",
   "metadata": {
    "scrolled": false
   },
   "outputs": [
    {
     "data": {
      "text/plain": [
       "XGBClassifier(base_score=0.5, booster='gbtree', callbacks=None,\n",
       "              colsample_bylevel=1, colsample_bynode=1, colsample_bytree=1,\n",
       "              early_stopping_rounds=None, enable_categorical=False,\n",
       "              eval_metric=None, gamma=0, gpu_id=-1, grow_policy='depthwise',\n",
       "              importance_type=None, interaction_constraints='',\n",
       "              learning_rate=0.300000012, max_bin=256, max_cat_to_onehot=4,\n",
       "              max_delta_step=0, max_depth=6, max_leaves=0, min_child_weight=1,\n",
       "              missing=nan, monotone_constraints='()', n_estimators=100,\n",
       "              n_jobs=0, num_parallel_tree=1, predictor='auto', random_state=0,\n",
       "              reg_alpha=0, reg_lambda=1, ...)"
      ]
     },
     "execution_count": 223,
     "metadata": {},
     "output_type": "execute_result"
    }
   ],
   "source": [
    "XGBoost_classifier.fit(training_Features,training_Labels)"
   ]
  },
  {
   "cell_type": "code",
   "execution_count": 224,
   "id": "continuing-fortune",
   "metadata": {},
   "outputs": [
    {
     "name": "stdout",
     "output_type": "stream",
     "text": [
      "              precision    recall  f1-score   support\n",
      "\n",
      "           0       0.98      1.00      0.99      4133\n",
      "           1       1.00      0.60      0.75       210\n",
      "\n",
      "    accuracy                           0.98      4343\n",
      "   macro avg       0.99      0.80      0.87      4343\n",
      "weighted avg       0.98      0.98      0.98      4343\n",
      "\n"
     ]
    },
    {
     "data": {
      "image/png": "[encoded data removed]",
      "text/plain": [
       "<Figure size 1080x864 with 2 Axes>"
      ]
     },
     "metadata": {
      "needs_background": "light"
     },
     "output_type": "display_data"
    }
   ],
   "source": [
    "training_predicted_values=XGBoost_classifier.predict(training_Features)\n",
    "training_classification_data=confusion_matrix(training_Labels,training_predicted_values)\n",
    "seaborn.heatmap(training_classification_data,annot=True)\n",
    "print(classification_report(training_Labels,training_predicted_values))"
   ]
  },
  {
   "cell_type": "code",
   "execution_count": 258,
   "id": "virgin-hayes",
   "metadata": {},
   "outputs": [
    {
     "name": "stdout",
     "output_type": "stream",
     "text": [
      "              precision    recall  f1-score   support\n",
      "\n",
      "           0       0.95      0.99      0.97       728\n",
      "           1       0.09      0.03      0.04        39\n",
      "\n",
      "    accuracy                           0.94       767\n",
      "   macro avg       0.52      0.51      0.50       767\n",
      "weighted avg       0.91      0.94      0.92       767\n",
      "\n"
     ]
    },
    {
     "data": {
      "image/png": "[encoded data removed]",
      "text/plain": [
       "<Figure size 576x360 with 2 Axes>"
      ]
     },
     "metadata": {
      "needs_background": "light"
     },
     "output_type": "display_data"
    }
   ],
   "source": [
    "predicted_values=XGBoost_classifier.predict(testing_Features)\n",
    "classification_data=confusion_matrix(predicted_values,testing_Labels)\n",
    "seaborn.heatmap(classification_data,annot=True)\n",
    "print(classification_report(testing_Labels,predicted_values))"
   ]
  },
  {
   "cell_type": "markdown",
   "id": "corporate-complaint",
   "metadata": {},
   "source": [
    "# RandomForestRegressor (Bagging)"
   ]
  },
  {
   "cell_type": "code",
   "execution_count": 226,
   "id": "mediterranean-fiber",
   "metadata": {},
   "outputs": [],
   "source": [
    "randomForestClassifier=RandomForestClassifier()"
   ]
  },
  {
   "cell_type": "code",
   "execution_count": 227,
   "id": "furnished-radio",
   "metadata": {},
   "outputs": [
    {
     "data": {
      "text/plain": [
       "RandomForestClassifier()"
      ]
     },
     "execution_count": 227,
     "metadata": {},
     "output_type": "execute_result"
    }
   ],
   "source": [
    "randomForestClassifier.fit(training_Features,training_Labels)"
   ]
  },
  {
   "cell_type": "code",
   "execution_count": 228,
   "id": "hairy-parts",
   "metadata": {},
   "outputs": [
    {
     "name": "stdout",
     "output_type": "stream",
     "text": [
      "              precision    recall  f1-score   support\n",
      "\n",
      "           0       1.00      1.00      1.00      4133\n",
      "           1       1.00      1.00      1.00       210\n",
      "\n",
      "    accuracy                           1.00      4343\n",
      "   macro avg       1.00      1.00      1.00      4343\n",
      "weighted avg       1.00      1.00      1.00      4343\n",
      "\n"
     ]
    },
    {
     "data": {
      "image/png": "[encoded data removed]",
      "text/plain": [
       "<Figure size 1080x864 with 2 Axes>"
      ]
     },
     "metadata": {
      "needs_background": "light"
     },
     "output_type": "display_data"
    }
   ],
   "source": [
    "training_predicted_values=randomForestClassifier.predict(training_Features)\n",
    "training_classification_data=confusion_matrix(training_Labels,training_predicted_values)\n",
    "seaborn.heatmap(training_classification_data,annot=True)\n",
    "print(classification_report(training_Labels,training_predicted_values))"
   ]
  },
  {
   "cell_type": "code",
   "execution_count": 257,
   "id": "radical-benefit",
   "metadata": {},
   "outputs": [
    {
     "name": "stdout",
     "output_type": "stream",
     "text": [
      "              precision    recall  f1-score   support\n",
      "\n",
      "           0       0.95      0.99      0.97       728\n",
      "           1       0.00      0.00      0.00        39\n",
      "\n",
      "    accuracy                           0.94       767\n",
      "   macro avg       0.47      0.49      0.48       767\n",
      "weighted avg       0.90      0.94      0.92       767\n",
      "\n"
     ]
    },
    {
     "data": {
      "image/png": "[encoded data removed]",
      "text/plain": [
       "<Figure size 576x360 with 2 Axes>"
      ]
     },
     "metadata": {
      "needs_background": "light"
     },
     "output_type": "display_data"
    }
   ],
   "source": [
    "predicted_values=randomForestClassifier.predict(testing_Features)\n",
    "classification_data=confusion_matrix(predicted_values,testing_Labels)\n",
    "seaborn.heatmap(classification_data,annot=True)\n",
    "print(classification_report(testing_Labels,predicted_values))"
   ]
  },
  {
   "cell_type": "code",
   "execution_count": null,
   "id": "found-dragon",
   "metadata": {},
   "outputs": [],
   "source": []
  },
  {
   "cell_type": "markdown",
   "id": "worth-determination",
   "metadata": {},
   "source": [
    "# GradientBoostingClassifier"
   ]
  },
  {
   "cell_type": "code",
   "execution_count": 230,
   "id": "documented-paradise",
   "metadata": {},
   "outputs": [],
   "source": [
    "gradientBoostingClassifier=GradientBoostingClassifier()"
   ]
  },
  {
   "cell_type": "code",
   "execution_count": 231,
   "id": "downtown-encounter",
   "metadata": {},
   "outputs": [
    {
     "data": {
      "text/plain": [
       "GradientBoostingClassifier()"
      ]
     },
     "execution_count": 231,
     "metadata": {},
     "output_type": "execute_result"
    }
   ],
   "source": [
    "gradientBoostingClassifier.fit(training_Features,training_Labels)"
   ]
  },
  {
   "cell_type": "code",
   "execution_count": 232,
   "id": "fluid-million",
   "metadata": {
    "scrolled": false
   },
   "outputs": [
    {
     "name": "stdout",
     "output_type": "stream",
     "text": [
      "              precision    recall  f1-score   support\n",
      "\n",
      "           0       0.96      1.00      0.98      4133\n",
      "           1       1.00      0.13      0.24       210\n",
      "\n",
      "    accuracy                           0.96      4343\n",
      "   macro avg       0.98      0.57      0.61      4343\n",
      "weighted avg       0.96      0.96      0.94      4343\n",
      "\n"
     ]
    },
    {
     "data": {
      "image/png": "[encoded data removed]",
      "text/plain": [
       "<Figure size 1080x864 with 2 Axes>"
      ]
     },
     "metadata": {
      "needs_background": "light"
     },
     "output_type": "display_data"
    }
   ],
   "source": [
    "training_predicted_values=gradientBoostingClassifier.predict(training_Features)\n",
    "training_classification_data=confusion_matrix(training_Labels,training_predicted_values)\n",
    "seaborn.heatmap(training_classification_data,annot=True)\n",
    "print(classification_report(training_Labels,training_predicted_values))"
   ]
  },
  {
   "cell_type": "code",
   "execution_count": 256,
   "id": "sophisticated-disclaimer",
   "metadata": {},
   "outputs": [
    {
     "name": "stdout",
     "output_type": "stream",
     "text": [
      "              precision    recall  f1-score   support\n",
      "\n",
      "           0       0.95      1.00      0.97       728\n",
      "           1       0.00      0.00      0.00        39\n",
      "\n",
      "    accuracy                           0.95       767\n",
      "   macro avg       0.47      0.50      0.49       767\n",
      "weighted avg       0.90      0.95      0.92       767\n",
      "\n"
     ]
    },
    {
     "data": {
      "image/png": "[encoded data removed]",
      "text/plain": [
       "<Figure size 576x360 with 2 Axes>"
      ]
     },
     "metadata": {
      "needs_background": "light"
     },
     "output_type": "display_data"
    }
   ],
   "source": [
    "predicted_values=gradientBoostingClassifier.predict(testing_Features)\n",
    "classification_data=confusion_matrix(predicted_values,testing_Labels)\n",
    "seaborn.heatmap(classification_data,annot=True)\n",
    "print(classification_report(testing_Labels,predicted_values))"
   ]
  },
  {
   "cell_type": "markdown",
   "id": "supported-leather",
   "metadata": {},
   "source": [
    "## Testing on new Data 👇\n",
    "for,\n",
    "\n",
    "\n",
    "2) gender: \"Male\" <br/>\n",
    "3) age: 21  <br/>\n",
    "4) hypertension: 0 if the patient doesn't have hypertension, 1 if the patient has hypertension  <br/>\n",
    "5) heart_disease: 0 if the patient doesn't have any heart diseases, 1 if the patient has a heart disease    <br/>\n",
    "9) avg_glucose_level:  150   <br/>\n",
    "11) smoking_status: \"never smoked\"  <br/>\n"
   ]
  },
  {
   "cell_type": "markdown",
   "id": "banned-english",
   "metadata": {},
   "source": [
    "##### (Correct Output Should be Not Failed)"
   ]
  },
  {
   "cell_type": "code",
   "execution_count": 246,
   "id": "latter-dream",
   "metadata": {},
   "outputs": [],
   "source": [
    "new_data=[1,21,0,0,150,0]"
   ]
  },
  {
   "cell_type": "code",
   "execution_count": 251,
   "id": "civil-honduras",
   "metadata": {},
   "outputs": [
    {
     "name": "stdout",
     "output_type": "stream",
     "text": [
      "Not_Failed\n"
     ]
    }
   ],
   "source": [
    "print(classes_list[bagging_classifier.predict([new_data])[0]])"
   ]
  },
  {
   "cell_type": "code",
   "execution_count": 252,
   "id": "julian-adaptation",
   "metadata": {},
   "outputs": [
    {
     "name": "stdout",
     "output_type": "stream",
     "text": [
      "Not_Failed\n"
     ]
    }
   ],
   "source": [
    "print(classes_list[randomForestClassifier.predict([new_data])[0]])"
   ]
  },
  {
   "cell_type": "code",
   "execution_count": 253,
   "id": "outdoor-breakdown",
   "metadata": {},
   "outputs": [
    {
     "name": "stdout",
     "output_type": "stream",
     "text": [
      "Not_Failed\n"
     ]
    }
   ],
   "source": [
    "print(classes_list[gradientBoostingClassifier.predict([new_data])[0]])"
   ]
  }
 ],
 "metadata": {
  "kernelspec": {
   "display_name": "Python 3",
   "language": "python",
   "name": "python3"
  },
  "language_info": {
   "codemirror_mode": {
    "name": "ipython",
    "version": 3
   },
   "file_extension": ".py",
   "mimetype": "text/x-python",
   "name": "python",
   "nbconvert_exporter": "python",
   "pygments_lexer": "ipython3",
   "version": "3.9.2"
  },
  "vscode": {
   "interpreter": {
    "hash": "11938c6bc6919ae2720b4d5011047913343b08a43b18698fd82dedb0d4417594"
   }
  }
 },
 "nbformat": 4,
 "nbformat_minor": 5
}
